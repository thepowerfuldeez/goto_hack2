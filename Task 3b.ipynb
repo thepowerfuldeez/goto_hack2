{
 "cells": [
  {
   "cell_type": "code",
   "execution_count": 1,
   "metadata": {
    "ExecuteTime": {
     "end_time": "2016-11-17T11:22:57.232625",
     "start_time": "2016-11-17T11:22:55.782889"
    },
    "collapsed": true
   },
   "outputs": [],
   "source": [
    "import pandas as pd\n",
    "import numpy as np\n",
    "from tqdm import tqdm\n",
    "from tqdm import tqdm_notebook\n",
    "from sklearn.metrics import f1_score\n",
    "from sklearn.model_selection import train_test_split\n",
    "from sklearn.linear_model import SGDClassifier\n",
    "\n",
    "tqdm.pandas()"
   ]
  },
  {
   "cell_type": "code",
   "execution_count": 2,
   "metadata": {
    "ExecuteTime": {
     "end_time": "2016-11-17T11:22:58.810549",
     "start_time": "2016-11-17T11:22:57.233998"
    },
    "collapsed": true
   },
   "outputs": [],
   "source": [
    "structure = pd.read_csv(\"kaggle/structure.csv\")\n",
    "targets = pd.read_csv(\"kaggle/targets.csv\")\n",
    "df = pd.read_csv(\"kaggle/user_activity.csv\")"
   ]
  },
  {
   "cell_type": "code",
   "execution_count": 3,
   "metadata": {
    "ExecuteTime": {
     "end_time": "2016-11-17T11:22:58.821108",
     "start_time": "2016-11-17T11:22:58.811835"
    },
    "collapsed": true
   },
   "outputs": [],
   "source": [
    "costed_steps = structure[structure.step_cost > 0]"
   ]
  },
  {
   "cell_type": "code",
   "execution_count": 4,
   "metadata": {
    "ExecuteTime": {
     "end_time": "2016-11-17T11:22:58.864237",
     "start_time": "2016-11-17T11:22:58.823272"
    },
    "collapsed": false
   },
   "outputs": [],
   "source": [
    "def f(x):\n",
    "    passed = x[x.action == \"passed\"]\n",
    "    not_passed = x[~(x.step_id.isin(passed.step_id))]\n",
    "    \n",
    "    #lol-comprehension mean attempts per day { \n",
    "    # TODO: optimize it with only unique step\n",
    "    avg_attempts_per_day = np.mean([t.time.values.size for t in [x[(x.action == \"started_attempt\") & (x.step_id == id_)] for id_ in x.step_id.unique()]])\n",
    "    # }\n",
    "    \n",
    "    not_passed = not_passed.drop_duplicates(\"step_id\")\n",
    "    \n",
    "    # passed steps last 10 days and skipped steps all course  {\n",
    "    days = 10*3600*24\n",
    "    border = passed.time.max() - days\n",
    "    passed_steps = len([1 for t in passed.time if t >= border])\n",
    "    skipped_steps = not_passed.time.values.size\n",
    "    # }\n",
    "    \n",
    "    # number of stepik-points at passed and viewed steps {\n",
    "    passed_balls = passed.step_cost.sum()\n",
    "    viewed_balls = not_passed[not_passed.action == \"viewed\"].step_cost.sum()\n",
    "    # }\n",
    "    \n",
    "    # average balls per day all course {\n",
    "    this_day = x.time.min() // 86400\n",
    "    last_day = x.time.max() // 86400\n",
    "    t = np.zeros((last_day - this_day, ))\n",
    "    i, cur_sum = 0, 0\n",
    "    for _, step in x.sort_values(\"time\").iterrows():\n",
    "        if step.time // 86400 >= this_day + 1:\n",
    "            t[i] = cur_sum\n",
    "            i += 1\n",
    "            this_day += 1\n",
    "            cur_sum = 0\n",
    "        cur_sum += step.step_cost\n",
    "    if np.sum(t):\n",
    "        median_balls_per_day = np.median(t)\n",
    "    else:\n",
    "        median_balls_per_day = 0\n",
    "    # }\n",
    "        \n",
    "    \n",
    "    res = [passed_steps, skipped_steps, avg_attempts_per_day, passed_balls, viewed_balls, median_balls_per_day]\n",
    "    return res"
   ]
  },
  {
   "cell_type": "code",
   "execution_count": 5,
   "metadata": {
    "ExecuteTime": {
     "end_time": "2016-11-17T11:22:59.218415",
     "start_time": "2016-11-17T11:22:58.865716"
    },
    "collapsed": false,
    "scrolled": true
   },
   "outputs": [],
   "source": [
    "x = df[df.step_id.isin(costed_steps.step_id)].groupby(\"user_id\").get_group(16857)"
   ]
  },
  {
   "cell_type": "code",
   "execution_count": 6,
   "metadata": {
    "ExecuteTime": {
     "end_time": "2016-11-17T11:22:59.802884",
     "start_time": "2016-11-17T11:22:59.774753"
    },
    "collapsed": false,
    "scrolled": true
   },
   "outputs": [
    {
     "data": {
      "text/plain": [
       "[1, 2, 4.0, 1, 1, 0]"
      ]
     },
     "execution_count": 6,
     "metadata": {},
     "output_type": "execute_result"
    }
   ],
   "source": [
    "f(x)"
   ]
  },
  {
   "cell_type": "code",
   "execution_count": 7,
   "metadata": {
    "ExecuteTime": {
     "end_time": "2016-11-17T11:26:25.707149",
     "start_time": "2016-11-17T11:23:01.386264"
    },
    "collapsed": false,
    "scrolled": true
   },
   "outputs": [
    {
     "name": "stderr",
     "output_type": "stream",
     "text": [
      "100%|██████████| 9426/9426 [03:24<00:00, 46.19it/s] \n"
     ]
    }
   ],
   "source": [
    "X_t = df[df.step_id.isin(costed_steps.step_id)].groupby(\"user_id\").progress_apply(f)\n",
    "Y_t = targets[targets.user_id.isin(X_t.index)]"
   ]
  },
  {
   "cell_type": "code",
   "execution_count": 8,
   "metadata": {
    "ExecuteTime": {
     "end_time": "2016-11-17T11:26:29.694036",
     "start_time": "2016-11-17T11:26:29.688386"
    },
    "collapsed": false,
    "scrolled": true
   },
   "outputs": [
    {
     "data": {
      "text/plain": [
       "(array([[0, 68, 0.0, 0, 51, 134.5], [9, 0, 2.3333333333333335, 9, 0, 1.0],\n",
       "        [9, 0, 2.6666666666666665, 9, 0, 44.0], ...,\n",
       "        [2, 1, 3.3333333333333335, 2, 1, 0], [0, 2, 1.0, 0, 2, 0],\n",
       "        [3, 0, 6.0, 3, 0, 0]], dtype=object), array([0, 0, 0, ..., 0, 0, 0]))"
      ]
     },
     "execution_count": 8,
     "metadata": {},
     "output_type": "execute_result"
    }
   ],
   "source": [
    "X_t.values, Y_t.passed.values"
   ]
  },
  {
   "cell_type": "code",
   "execution_count": 9,
   "metadata": {
    "ExecuteTime": {
     "end_time": "2016-11-17T11:26:31.526892",
     "start_time": "2016-11-17T11:26:31.523111"
    },
    "collapsed": true
   },
   "outputs": [],
   "source": [
    "def prepare(df, num_features):\n",
    "    X = df.groupby(\"user_id\").progress_apply(f)\n",
    "    return X.index, np.array([np.array(x) for x in X.values]).reshape(-1, num_features)"
   ]
  },
  {
   "cell_type": "code",
   "execution_count": 48,
   "metadata": {
    "ExecuteTime": {
     "end_time": "2016-11-17T11:36:09.379403",
     "start_time": "2016-11-17T11:36:09.348592"
    },
    "collapsed": true
   },
   "outputs": [],
   "source": [
    "X = np.array([np.array(x) for x in X_t.values]).reshape(-1, 6)\n",
    "Y = Y_t.passed.ravel()"
   ]
  },
  {
   "cell_type": "code",
   "execution_count": 49,
   "metadata": {
    "ExecuteTime": {
     "end_time": "2016-11-17T11:36:09.971264",
     "start_time": "2016-11-17T11:36:09.967447"
    },
    "collapsed": false
   },
   "outputs": [],
   "source": [
    "X_train, X_test, Y_train, Y_test = train_test_split(X, Y)"
   ]
  },
  {
   "cell_type": "code",
   "execution_count": 50,
   "metadata": {
    "ExecuteTime": {
     "end_time": "2016-11-17T11:36:10.459724",
     "start_time": "2016-11-17T11:36:10.455953"
    },
    "collapsed": false
   },
   "outputs": [
    {
     "data": {
      "text/plain": [
       "(7068, 6)"
      ]
     },
     "execution_count": 50,
     "metadata": {},
     "output_type": "execute_result"
    }
   ],
   "source": [
    "X_train.shape"
   ]
  },
  {
   "cell_type": "code",
   "execution_count": 51,
   "metadata": {
    "ExecuteTime": {
     "end_time": "2016-11-17T11:36:10.955106",
     "start_time": "2016-11-17T11:36:10.951763"
    },
    "collapsed": true
   },
   "outputs": [],
   "source": [
    "import theano  # нейронки\n",
    "import numpy as np  # наука\n",
    "import lasagne  # готовые нейронки\n",
    "import theano.tensor as T"
   ]
  },
  {
   "cell_type": "code",
   "execution_count": 57,
   "metadata": {
    "ExecuteTime": {
     "end_time": "2016-11-17T11:36:43.385058",
     "start_time": "2016-11-17T11:36:42.690993"
    },
    "collapsed": false
   },
   "outputs": [],
   "source": [
    "input_X = T.matrix(\"X\", dtype=\"float32\")\n",
    "input_shape = [None, 6]\n",
    "target_y = T.vector(\"target Y\", dtype='int32')\n",
    "\n",
    "#АРХИТЕКТУРА нейронки:\n",
    "# #входной слой (вспомогательный)\n",
    "input_layer = lasagne.layers.InputLayer(shape=input_shape, input_var=input_X)\n",
    "\n",
    "#hidden layers\n",
    "dense_0 = lasagne.layers.DenseLayer(input_layer, 100, nonlinearity=lasagne.nonlinearities.sigmoid)\n",
    "dense_output = lasagne.layers.DenseLayer(dense_0,\n",
    "                                        num_units = 1,\n",
    "                                        nonlinearity = lasagne.nonlinearities.softmax,\n",
    "                                        name='output')\n",
    "\n",
    "#предсказание нейронки (theano-преобразование)\n",
    "y_predicted = lasagne.layers.get_output(dense_output)\n",
    "\n",
    "#все веса нейронки (shared-переменные)\n",
    "all_weights = lasagne.layers.get_all_params(dense_output)\n",
    "\n",
    "#функция ошибки - средняя кроссэнтропия\n",
    "loss = lasagne.objectives.binary_crossentropy(y_predicted, target_y).mean()\n",
    "\n",
    "#сразу посчитать словарь обновлённых значений с шагом по градиенту, как раньше\n",
    "updates_sgd = lasagne.updates.rmsprop(loss, all_weights,learning_rate=0.01)\n",
    "\n",
    "#функция, которая обучает сеть на 1 шаг и возвращащет значение функции потерь и точности\n",
    "train_fun = theano.function([input_X,target_y], loss, updates=updates_sgd, allow_input_downcast=True)\n",
    "\n",
    "# вспомогательная функция, которая возвращает список мини-батчей для обучения нейронки\n",
    "\n",
    "#на вход\n",
    "# X - тензор из картинок размером (много, 1, 28, 28), например - X_train\n",
    "# y - вектор из чиселок - ответов для каждой картинки из X; например - Y_train\n",
    "#batch_size - одно число - желаемый размер группы\n",
    "\n",
    "#что нужно сделать\n",
    "# 1) перемешать данные\n",
    "# - важно перемешать X и y одним и тем же образом, чтобы сохранить соответствие картинки ответу на неё\n",
    "# 3) побить данные на подгруппы так, чтобы в каждой подгруппе было batch_size картинок и ответов\n",
    "# - если число картинок не делится на batch_size, одну подгруппу можно вернуть другого размера\n",
    "# 4) вернуть список (или итератор) пар:\n",
    "# - (подгруппа картинок, ответы из y на эту подгруппу)\n",
    "\n",
    "def iterate_minibatches(inputs, targets, batchsize, shuffle=True):\n",
    "    assert len(inputs) == len(targets)\n",
    "    if shuffle:\n",
    "        indices = np.arange(len(inputs))\n",
    "        np.random.shuffle(indices)\n",
    "    for start_idx in range(0, len(inputs) - batchsize + 1, batchsize):\n",
    "        if shuffle:\n",
    "            excerpt = indices[start_idx:start_idx + batchsize]\n",
    "        else:\n",
    "            excerpt = slice(start_idx, start_idx + batchsize)\n",
    "        yield inputs[excerpt], targets[excerpt] "
   ]
  },
  {
   "cell_type": "code",
   "execution_count": 58,
   "metadata": {
    "ExecuteTime": {
     "end_time": "2016-11-17T11:36:43.684967",
     "start_time": "2016-11-17T11:36:43.386539"
    },
    "collapsed": false
   },
   "outputs": [
    {
     "name": "stdout",
     "output_type": "stream",
     "text": [
      "Epoch 1 of 10 took 0.024s\n",
      "  training loss (in-iteration):\t\tnan\n",
      "Epoch 2 of 10 took 0.024s\n",
      "  training loss (in-iteration):\t\tnan\n",
      "Epoch 3 of 10 took 0.025s\n",
      "  training loss (in-iteration):\t\tnan\n",
      "Epoch 4 of 10 took 0.027s\n",
      "  training loss (in-iteration):\t\tnan\n",
      "Epoch 5 of 10 took 0.035s\n",
      "  training loss (in-iteration):\t\tnan\n",
      "Epoch 6 of 10 took 0.026s\n",
      "  training loss (in-iteration):\t\tnan\n",
      "Epoch 7 of 10 took 0.038s\n",
      "  training loss (in-iteration):\t\tnan\n",
      "Epoch 8 of 10 took 0.022s\n",
      "  training loss (in-iteration):\t\tnan\n",
      "Epoch 9 of 10 took 0.036s\n",
      "  training loss (in-iteration):\t\tnan\n",
      "Epoch 10 of 10 took 0.024s\n",
      "  training loss (in-iteration):\t\tnan\n"
     ]
    }
   ],
   "source": [
    "#ОБУЧЕНИЕ И ВАЛИДАЦИЯ\n",
    "import time\n",
    "\n",
    "num_epochs = 10 #количество проходов по данным\n",
    "\n",
    "batch_size = 100 #размер мини-батча\n",
    "\n",
    "for epoch in range(num_epochs):\n",
    "    # In each epoch, we do a full pass over the training data:\n",
    "    train_err = 0\n",
    "    train_acc = 0\n",
    "    train_batches = 0\n",
    "    start_time = time.time()\n",
    "    for batch in iterate_minibatches(X_train, Y_train, batch_size):\n",
    "        inputs, targets = batch\n",
    "        train_err_batch = train_fun(inputs, targets)\n",
    "        train_err += train_err_batch\n",
    "        train_batches += 1\n",
    "        \n",
    "    # Then we print the results for this epoch:\n",
    "    print(\"Epoch {} of {} took {:.3f}s\".format(\n",
    "        epoch + 1, num_epochs, time.time() - start_time))\n",
    "\n",
    "    print(\"  training loss (in-iteration):\\t\\t{:.6f}\".format(train_err / train_batches))"
   ]
  },
  {
   "cell_type": "code",
   "execution_count": 34,
   "metadata": {
    "ExecuteTime": {
     "end_time": "2016-11-13T17:01:46.460701",
     "start_time": "2016-11-13T17:01:46.279204"
    },
    "collapsed": true
   },
   "outputs": [],
   "source": [
    "predict_net = theano.compile.function([input_X], lasagne.layers.get_output(dense_output))"
   ]
  },
  {
   "cell_type": "code",
   "execution_count": 35,
   "metadata": {
    "ExecuteTime": {
     "end_time": "2016-11-13T17:01:48.163310",
     "start_time": "2016-11-13T17:01:48.155218"
    },
    "collapsed": false
   },
   "outputs": [
    {
     "data": {
      "text/plain": [
       "array([[ nan]])"
      ]
     },
     "execution_count": 35,
     "metadata": {},
     "output_type": "execute_result"
    }
   ],
   "source": [
    "predict_net(np.array([X[4]]))"
   ]
  },
  {
   "cell_type": "code",
   "execution_count": null,
   "metadata": {
    "collapsed": true
   },
   "outputs": [],
   "source": []
  }
 ],
 "metadata": {
  "kernelspec": {
   "display_name": "Python 3",
   "language": "python",
   "name": "python3"
  },
  "language_info": {
   "codemirror_mode": {
    "name": "ipython",
    "version": 3
   },
   "file_extension": ".py",
   "mimetype": "text/x-python",
   "name": "python",
   "nbconvert_exporter": "python",
   "pygments_lexer": "ipython3",
   "version": "3.5.2"
  }
 },
 "nbformat": 4,
 "nbformat_minor": 1
}
