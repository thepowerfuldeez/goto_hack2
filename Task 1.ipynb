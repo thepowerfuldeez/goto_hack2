{
 "cells": [
  {
   "cell_type": "code",
   "execution_count": 1,
   "metadata": {
    "ExecuteTime": {
     "end_time": "2016-11-10T01:37:07.170974",
     "start_time": "2016-11-10T01:37:06.515918"
    },
    "collapsed": true
   },
   "outputs": [],
   "source": [
    "import pandas as pd"
   ]
  },
  {
   "cell_type": "code",
   "execution_count": 2,
   "metadata": {
    "ExecuteTime": {
     "end_time": "2016-11-10T01:37:08.808790",
     "start_time": "2016-11-10T01:37:07.869074"
    },
    "collapsed": true
   },
   "outputs": [],
   "source": [
    "structure = pd.read_csv(\"course-217-structure.csv\")\n",
    "data = pd.read_csv(\"course-217-events.csv\")\n",
    "\n",
    "costs = structure.ix[:, [5, 8]].set_index(\"step_id\").to_dict()[\"step_cost\"]\n",
    "passed = data[data.action == \"passed\"]"
   ]
  },
  {
   "cell_type": "code",
   "execution_count": 5,
   "metadata": {
    "ExecuteTime": {
     "end_time": "2016-11-10T01:38:36.104469",
     "start_time": "2016-11-10T01:38:29.713884"
    },
    "collapsed": false
   },
   "outputs": [
    {
     "name": "stdout",
     "output_type": "stream",
     "text": [
      "\r",
      "          \r",
      "518626it [01:20, 6477.07it/s]"
     ]
    }
   ],
   "source": [
    "users_first_time = data.groupby(\"user_id\").apply(lambda x: x.min()).set_index(\"user_id\").to_dict()[\"time\"]\n",
    "passed = data[data.action == \"passed\"]"
   ]
  },
  {
   "cell_type": "code",
   "execution_count": 6,
   "metadata": {
    "ExecuteTime": {
     "end_time": "2016-11-10T01:39:12.408957",
     "start_time": "2016-11-10T01:38:37.607628"
    },
    "collapsed": false
   },
   "outputs": [],
   "source": [
    "from collections import defaultdict\n",
    "from tqdm import tqdm_notebook\n",
    "# текущее кол-во баллов\n",
    "users = defaultdict(int)\n",
    "\n",
    "for _, row in tqdm_notebook(passed.sort_values(\"time\").iterrows()):\n",
    "    users[row.user_id] += costs[row.step_id]"
   ]
  },
  {
   "cell_type": "code",
   "execution_count": 7,
   "metadata": {
    "ExecuteTime": {
     "end_time": "2016-11-10T01:39:18.453371",
     "start_time": "2016-11-10T01:39:18.425985"
    },
    "collapsed": true
   },
   "outputs": [],
   "source": [
    "true_users = {k for k, v in users.items() if v >= 24}\n",
    "\n",
    "passed = passed[passed.user_id.isin(true_users)]"
   ]
  },
  {
   "cell_type": "code",
   "execution_count": 8,
   "metadata": {
    "ExecuteTime": {
     "end_time": "2016-11-10T01:39:27.931675",
     "start_time": "2016-11-10T01:39:27.927242"
    },
    "collapsed": true
   },
   "outputs": [],
   "source": [
    "def f(x):\n",
    "    cur_points = 0\n",
    "    for _, row in x.iterrows():\n",
    "        if cur_points == 24:\n",
    "            return row.time - users_first_time[row.user_id]\n",
    "        cur_points += costs[row.step_id]"
   ]
  },
  {
   "cell_type": "code",
   "execution_count": 9,
   "metadata": {
    "ExecuteTime": {
     "end_time": "2016-11-10T01:39:36.982964",
     "start_time": "2016-11-10T01:39:29.906053"
    },
    "collapsed": false
   },
   "outputs": [
    {
     "name": "stderr",
     "output_type": "stream",
     "text": [
      "100%|██████████| 530/530 [00:07<00:00, 75.11it/s]\n"
     ]
    }
   ],
   "source": [
    "from tqdm import tqdm\n",
    "tqdm.pandas()\n",
    "\n",
    "res = passed.sort_values(\"time\").groupby(\"user_id\").progress_apply(f)\n",
    "res = res[~pd.isnull(res.values)]"
   ]
  },
  {
   "cell_type": "code",
   "execution_count": 10,
   "metadata": {
    "ExecuteTime": {
     "end_time": "2016-11-10T01:39:39.820877",
     "start_time": "2016-11-10T01:39:39.810011"
    },
    "collapsed": false
   },
   "outputs": [
    {
     "data": {
      "text/plain": [
       "'4313,1264,821,1146,1124,2622,713,4280,4244,3226'"
      ]
     },
     "execution_count": 10,
     "metadata": {},
     "output_type": "execute_result"
    }
   ],
   "source": [
    "\",\".join(map(str, res.sort_values().head(10).index))"
   ]
  },
  {
   "cell_type": "code",
   "execution_count": 80,
   "metadata": {
    "ExecuteTime": {
     "end_time": "2016-11-10T01:17:19.138367",
     "start_time": "2016-11-10T01:13:22.573571"
    },
    "collapsed": false
   },
   "outputs": [
    {
     "name": "stdout",
     "output_type": "stream",
     "text": [
      "\n"
     ]
    }
   ],
   "source": [
    "from collections import defaultdict\n",
    "from tqdm import tqdm_notebook\n",
    "# текущее кол-во баллов\n",
    "users = defaultdict(int)\n",
    "users_graduate_time = {}\n",
    "\n",
    "for _, row in tqdm_notebook(data.sort_values(\"time\").iterrows()):\n",
    "    if users.get(row.user_id, 0) == 24 and not users_graduate_time.get(row.user_id):\n",
    "        users_graduate_time[row.user_id] = row.time - users_first_time[row.user_id]\n",
    "    users[row.user_id] += costs[row.step_id]"
   ]
  },
  {
   "cell_type": "code",
   "execution_count": 82,
   "metadata": {
    "ExecuteTime": {
     "end_time": "2016-11-10T01:17:57.124027",
     "start_time": "2016-11-10T01:17:57.112680"
    },
    "collapsed": false
   },
   "outputs": [],
   "source": [
    "x = sorted([k for k in users_graduate_time], key=lambda x: users_graduate_time[x])"
   ]
  },
  {
   "cell_type": "code",
   "execution_count": 83,
   "metadata": {
    "ExecuteTime": {
     "end_time": "2016-11-10T01:18:03.638760",
     "start_time": "2016-11-10T01:18:03.633853"
    },
    "collapsed": false
   },
   "outputs": [
    {
     "data": {
      "text/plain": [
       "'2649,4017,3960,4418,4031,5583,1516,4619,4175,4120'"
      ]
     },
     "execution_count": 83,
     "metadata": {},
     "output_type": "execute_result"
    }
   ],
   "source": [
    "\",\".join(map(str, x[:10]))"
   ]
  },
  {
   "cell_type": "code",
   "execution_count": 70,
   "metadata": {
    "ExecuteTime": {
     "end_time": "2016-11-10T01:08:30.861922",
     "start_time": "2016-11-10T01:07:38.039253"
    },
    "collapsed": false
   },
   "outputs": [
    {
     "name": "stderr",
     "output_type": "stream",
     "text": [
      "100%|██████████| 7663/7663 [00:52<00:00, 146.24it/s]\n"
     ]
    }
   ],
   "source": [
    "from tqdm import tqdm\n",
    "tqdm.pandas()\n",
    "res = data.sort_values(\"time\").groupby(\"user_id\").progress_apply(f)"
   ]
  },
  {
   "cell_type": "code",
   "execution_count": 79,
   "metadata": {
    "ExecuteTime": {
     "end_time": "2016-11-10T01:11:49.676909",
     "start_time": "2016-11-10T01:11:49.656556"
    },
    "collapsed": false
   },
   "outputs": [
    {
     "data": {
      "text/plain": [
       "6785.0"
      ]
     },
     "execution_count": 79,
     "metadata": {},
     "output_type": "execute_result"
    },
    {
     "data": {
      "text/plain": [
       "12655.0"
      ]
     },
     "execution_count": 79,
     "metadata": {},
     "output_type": "execute_result"
    },
    {
     "data": {
      "text/plain": [
       "15362.0"
      ]
     },
     "execution_count": 79,
     "metadata": {},
     "output_type": "execute_result"
    },
    {
     "data": {
      "text/plain": [
       "135365.0"
      ]
     },
     "execution_count": 79,
     "metadata": {},
     "output_type": "execute_result"
    },
    {
     "data": {
      "text/plain": [
       "333919.0"
      ]
     },
     "execution_count": 79,
     "metadata": {},
     "output_type": "execute_result"
    },
    {
     "data": {
      "text/plain": [
       "528915.0"
      ]
     },
     "execution_count": 79,
     "metadata": {},
     "output_type": "execute_result"
    },
    {
     "data": {
      "text/plain": [
       "100816.0"
      ]
     },
     "execution_count": 79,
     "metadata": {},
     "output_type": "execute_result"
    },
    {
     "data": {
      "text/plain": [
       "108242.0"
      ]
     },
     "execution_count": 79,
     "metadata": {},
     "output_type": "execute_result"
    },
    {
     "data": {
      "text/plain": [
       "16307.0"
      ]
     },
     "execution_count": 79,
     "metadata": {},
     "output_type": "execute_result"
    },
    {
     "data": {
      "text/plain": [
       "143221.0"
      ]
     },
     "execution_count": 79,
     "metadata": {},
     "output_type": "execute_result"
    }
   ],
   "source": [
    "res[4313]\n",
    "res[1264]\n",
    "res[821]\n",
    "res[1146]\n",
    "res[1124]\n",
    "res[2622]\n",
    "res[713]\n",
    "res[972]\n",
    "res[4280]\n",
    "res[1291]"
   ]
  },
  {
   "cell_type": "code",
   "execution_count": 93,
   "metadata": {
    "ExecuteTime": {
     "end_time": "2016-11-09T03:19:57.626727",
     "start_time": "2016-11-09T03:19:57.449668"
    },
    "collapsed": false
   },
   "outputs": [],
   "source": [
    "res = passed.sort_values(\"time\").groupby(\"user_id\").apply(lambda x: users_first_time[x.user_id.values[0]] - x.time.values[0])"
   ]
  },
  {
   "cell_type": "code",
   "execution_count": 95,
   "metadata": {
    "ExecuteTime": {
     "end_time": "2016-11-09T03:20:25.319138",
     "start_time": "2016-11-09T03:20:25.271176"
    },
    "collapsed": false
   },
   "outputs": [
    {
     "ename": "AttributeError",
     "evalue": "'DataFrame' object has no attribute 'user_id'",
     "output_type": "error",
     "traceback": [
      "\u001b[0;31m---------------------------------------------------------------------------\u001b[0m",
      "\u001b[0;31mAttributeError\u001b[0m                            Traceback (most recent call last)",
      "\u001b[0;32m<ipython-input-95-3e43f12aec8f>\u001b[0m in \u001b[0;36m<module>\u001b[0;34m()\u001b[0m\n\u001b[1;32m      2\u001b[0m \u001b[0ma\u001b[0m \u001b[0;34m=\u001b[0m \u001b[0ma\u001b[0m\u001b[0;34m.\u001b[0m\u001b[0mnth\u001b[0m\u001b[0;34m(\u001b[0m\u001b[0;36m0\u001b[0m\u001b[0;34m)\u001b[0m\u001b[0;34m\u001b[0m\u001b[0m\n\u001b[1;32m      3\u001b[0m \u001b[0;34m\u001b[0m\u001b[0m\n\u001b[0;32m----> 4\u001b[0;31m \u001b[0ma\u001b[0m\u001b[0;34m.\u001b[0m\u001b[0muser_id\u001b[0m\u001b[0;34m.\u001b[0m\u001b[0mvalues\u001b[0m\u001b[0;34m[\u001b[0m\u001b[0;36m0\u001b[0m\u001b[0;34m]\u001b[0m\u001b[0;34m\u001b[0m\u001b[0m\n\u001b[0m",
      "\u001b[0;32m/Library/anaconda/lib/python3.5/site-packages/pandas/core/generic.py\u001b[0m in \u001b[0;36m__getattr__\u001b[0;34m(self, name)\u001b[0m\n\u001b[1;32m   2742\u001b[0m             \u001b[0;32mif\u001b[0m \u001b[0mname\u001b[0m \u001b[0;32min\u001b[0m \u001b[0mself\u001b[0m\u001b[0;34m.\u001b[0m\u001b[0m_info_axis\u001b[0m\u001b[0;34m:\u001b[0m\u001b[0;34m\u001b[0m\u001b[0m\n\u001b[1;32m   2743\u001b[0m                 \u001b[0;32mreturn\u001b[0m \u001b[0mself\u001b[0m\u001b[0;34m[\u001b[0m\u001b[0mname\u001b[0m\u001b[0;34m]\u001b[0m\u001b[0;34m\u001b[0m\u001b[0m\n\u001b[0;32m-> 2744\u001b[0;31m             \u001b[0;32mreturn\u001b[0m \u001b[0mobject\u001b[0m\u001b[0;34m.\u001b[0m\u001b[0m__getattribute__\u001b[0m\u001b[0;34m(\u001b[0m\u001b[0mself\u001b[0m\u001b[0;34m,\u001b[0m \u001b[0mname\u001b[0m\u001b[0;34m)\u001b[0m\u001b[0;34m\u001b[0m\u001b[0m\n\u001b[0m\u001b[1;32m   2745\u001b[0m \u001b[0;34m\u001b[0m\u001b[0m\n\u001b[1;32m   2746\u001b[0m     \u001b[0;32mdef\u001b[0m \u001b[0m__setattr__\u001b[0m\u001b[0;34m(\u001b[0m\u001b[0mself\u001b[0m\u001b[0;34m,\u001b[0m \u001b[0mname\u001b[0m\u001b[0;34m,\u001b[0m \u001b[0mvalue\u001b[0m\u001b[0;34m)\u001b[0m\u001b[0;34m:\u001b[0m\u001b[0;34m\u001b[0m\u001b[0m\n",
      "\u001b[0;31mAttributeError\u001b[0m: 'DataFrame' object has no attribute 'user_id'"
     ]
    }
   ],
   "source": [
    "a = passed.sort_values(\"time\").groupby(\"user_id\")\n",
    "a = a.nth(0)\n",
    "\n",
    "a.user_id.values[0]"
   ]
  },
  {
   "cell_type": "code",
   "execution_count": 96,
   "metadata": {
    "ExecuteTime": {
     "end_time": "2016-11-09T03:20:31.455890",
     "start_time": "2016-11-09T03:20:31.450212"
    },
    "collapsed": false
   },
   "outputs": [
    {
     "data": {
      "text/plain": [
       "'2650,4550,2719,4374,4268,1223,2128,2941,5204,509'"
      ]
     },
     "execution_count": 96,
     "metadata": {},
     "output_type": "execute_result"
    }
   ],
   "source": [
    "\",\".join(map(str, res.sort_values()[:10].index))"
   ]
  },
  {
   "cell_type": "code",
   "execution_count": null,
   "metadata": {
    "collapsed": true
   },
   "outputs": [],
   "source": []
  },
  {
   "cell_type": "code",
   "execution_count": null,
   "metadata": {
    "ExecuteTime": {
     "end_time": "2016-11-08T13:43:11.626932",
     "start_time": "2016-11-08T13:43:11.404394"
    },
    "collapsed": false
   },
   "outputs": [],
   "source": [
    "a = []\n",
    "\n",
    "s = data[data.action == \"passed\"]\n",
    "for step_id in structure[structure.step_cost == 1].step_id:\n",
    "    a.append(s[s.step_id == step_id])"
   ]
  },
  {
   "cell_type": "code",
   "execution_count": null,
   "metadata": {
    "ExecuteTime": {
     "end_time": "2016-11-08T13:46:58.439797",
     "start_time": "2016-11-08T13:46:58.425421"
    },
    "collapsed": false
   },
   "outputs": [],
   "source": [
    "true_users = pd.concat(a)"
   ]
  },
  {
   "cell_type": "code",
   "execution_count": null,
   "metadata": {
    "ExecuteTime": {
     "end_time": "2016-11-08T14:12:04.567978",
     "start_time": "2016-11-08T14:12:04.557116"
    },
    "collapsed": false
   },
   "outputs": [],
   "source": [
    "true_users.head()"
   ]
  },
  {
   "cell_type": "code",
   "execution_count": null,
   "metadata": {
    "ExecuteTime": {
     "end_time": "2016-11-08T13:51:00.003682",
     "start_time": "2016-11-08T13:50:59.996320"
    },
    "collapsed": false
   },
   "outputs": [],
   "source": [
    "true_users = true_users.sort_values(\"time\")"
   ]
  },
  {
   "cell_type": "code",
   "execution_count": null,
   "metadata": {
    "ExecuteTime": {
     "end_time": "2016-11-08T13:58:56.599581",
     "start_time": "2016-11-08T13:58:56.595719"
    },
    "collapsed": true
   },
   "outputs": [],
   "source": [
    "from tqdm import tqdm_notebook"
   ]
  },
  {
   "cell_type": "code",
   "execution_count": null,
   "metadata": {
    "ExecuteTime": {
     "end_time": "2016-11-08T14:18:23.849513",
     "start_time": "2016-11-08T14:16:21.404715"
    },
    "collapsed": false
   },
   "outputs": [],
   "source": [
    "first_time_dict = {}\n",
    "\n",
    "t = data[data.action != \"passed\"].sort_values(\"time\")\n",
    "for _, row in s.iterrows():\n",
    "    if not first_time_dict.get(row.user_id):\n",
    "        first_time_dict[row.user_id] = row.time"
   ]
  },
  {
   "cell_type": "code",
   "execution_count": null,
   "metadata": {
    "ExecuteTime": {
     "end_time": "2016-11-08T14:45:00.637711",
     "start_time": "2016-11-08T14:45:00.114489"
    },
    "collapsed": false
   },
   "outputs": [],
   "source": [
    "first_time_dict = data.sort_values(\"time\", ascending=False).set_index(\"user_id\")[\"time\"].to_dict()"
   ]
  },
  {
   "cell_type": "code",
   "execution_count": null,
   "metadata": {
    "ExecuteTime": {
     "end_time": "2016-11-08T14:45:01.373578",
     "start_time": "2016-11-08T14:45:01.283484"
    },
    "collapsed": true
   },
   "outputs": [],
   "source": [
    "first_time_dict"
   ]
  },
  {
   "cell_type": "code",
   "execution_count": null,
   "metadata": {
    "ExecuteTime": {
     "end_time": "2016-11-08T14:45:05.190869",
     "start_time": "2016-11-08T14:45:05.187462"
    },
    "collapsed": false
   },
   "outputs": [],
   "source": [
    "first_time_dict[1]"
   ]
  },
  {
   "cell_type": "code",
   "execution_count": null,
   "metadata": {
    "ExecuteTime": {
     "end_time": "2016-11-08T15:21:29.957413",
     "start_time": "2016-11-08T15:21:25.547965"
    },
    "collapsed": false
   },
   "outputs": [],
   "source": [
    "from collections import defaultdict\n",
    "p = []\n",
    "# текущее кол-во баллов пользователя\n",
    "c = defaultdict(int)\n",
    "\n",
    "for _, row in true_users.iterrows():\n",
    "    id_ = row.user_id\n",
    "    if c[id_] == 24:\n",
    "        p.append((id_, row.time - first_time_dict[id_]))\n",
    "    \n",
    "    c[row.user_id] += 1\n",
    "    \n",
    "res = sorted(p, key=lambda t: t[1])"
   ]
  },
  {
   "cell_type": "code",
   "execution_count": null,
   "metadata": {
    "ExecuteTime": {
     "end_time": "2016-11-08T15:21:30.472316",
     "start_time": "2016-11-08T15:21:30.468702"
    },
    "collapsed": false
   },
   "outputs": [],
   "source": [
    "for pair in res[:10]:\n",
    "    print(pair[0], end=\",\")"
   ]
  },
  {
   "cell_type": "code",
   "execution_count": null,
   "metadata": {
    "collapsed": true
   },
   "outputs": [],
   "source": []
  }
 ],
 "metadata": {
  "kernelspec": {
   "display_name": "Python 3",
   "language": "python",
   "name": "python3"
  },
  "language_info": {
   "codemirror_mode": {
    "name": "ipython",
    "version": 3
   },
   "file_extension": ".py",
   "mimetype": "text/x-python",
   "name": "python",
   "nbconvert_exporter": "python",
   "pygments_lexer": "ipython3",
   "version": "3.5.2"
  }
 },
 "nbformat": 4,
 "nbformat_minor": 1
}
