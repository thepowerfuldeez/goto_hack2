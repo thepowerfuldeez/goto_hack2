{
 "cells": [
  {
   "cell_type": "code",
   "execution_count": 1,
   "metadata": {
    "ExecuteTime": {
     "end_time": "2016-11-10T12:03:49.335755",
     "start_time": "2016-11-10T12:03:48.700612"
    },
    "collapsed": true
   },
   "outputs": [],
   "source": [
    "import pandas as pd"
   ]
  },
  {
   "cell_type": "code",
   "execution_count": 2,
   "metadata": {
    "ExecuteTime": {
     "end_time": "2016-11-10T12:03:50.684929",
     "start_time": "2016-11-10T12:03:49.697054"
    },
    "collapsed": true
   },
   "outputs": [],
   "source": [
    "structure = pd.read_csv(\"course-217-structure.csv\")\n",
    "data = pd.read_csv(\"course-217-events.csv\")\n",
    "\n",
    "costs = structure.ix[:, [5, 8]].set_index(\"step_id\").to_dict()[\"step_cost\"]\n",
    "passed = data[data.action == \"passed\"]"
   ]
  },
  {
   "cell_type": "code",
   "execution_count": 3,
   "metadata": {
    "ExecuteTime": {
     "end_time": "2016-11-10T12:03:56.211075",
     "start_time": "2016-11-10T12:03:51.078677"
    },
    "collapsed": false
   },
   "outputs": [],
   "source": [
    "users_first_time = data.groupby(\"user_id\").apply(lambda x: x.min()).set_index(\"user_id\").to_dict()[\"time\"]"
   ]
  },
  {
   "cell_type": "code",
   "execution_count": 4,
   "metadata": {
    "ExecuteTime": {
     "end_time": "2016-11-10T12:04:31.821648",
     "start_time": "2016-11-10T12:03:56.746230"
    },
    "collapsed": false
   },
   "outputs": [
    {
     "name": "stdout",
     "output_type": "stream",
     "text": [
      "\n"
     ]
    }
   ],
   "source": [
    "from collections import defaultdict\n",
    "from tqdm import tqdm_notebook\n",
    "# текущее кол-во баллов\n",
    "users = defaultdict(int)\n",
    "\n",
    "for _, row in tqdm_notebook(passed.sort_values(\"time\").iterrows()):\n",
    "    users[row.user_id] += costs[row.step_id]"
   ]
  },
  {
   "cell_type": "code",
   "execution_count": 5,
   "metadata": {
    "ExecuteTime": {
     "end_time": "2016-11-10T12:04:33.574777",
     "start_time": "2016-11-10T12:04:33.543723"
    },
    "collapsed": true
   },
   "outputs": [],
   "source": [
    "true_users = {k for k, v in users.items() if v >= 24}\n",
    "\n",
    "passed = passed[passed.user_id.isin(true_users)]"
   ]
  },
  {
   "cell_type": "code",
   "execution_count": 6,
   "metadata": {
    "ExecuteTime": {
     "end_time": "2016-11-10T12:04:41.941947",
     "start_time": "2016-11-10T12:04:41.938229"
    },
    "collapsed": true
   },
   "outputs": [],
   "source": [
    "def f(x):\n",
    "    cur_points = 0\n",
    "    for _, row in x.iterrows():\n",
    "        cur_points += costs[row.step_id]\n",
    "        if cur_points == 24:\n",
    "            return row.time - users_first_time[row.user_id]"
   ]
  },
  {
   "cell_type": "code",
   "execution_count": 7,
   "metadata": {
    "ExecuteTime": {
     "end_time": "2016-11-10T12:04:51.717865",
     "start_time": "2016-11-10T12:04:44.190051"
    },
    "collapsed": false
   },
   "outputs": [
    {
     "name": "stderr",
     "output_type": "stream",
     "text": [
      "100%|██████████| 530/530 [00:07<00:00, 70.60it/s]\n"
     ]
    }
   ],
   "source": [
    "from tqdm import tqdm\n",
    "tqdm.pandas()\n",
    "\n",
    "res = passed.sort_values(\"time\").groupby(\"user_id\").progress_apply(f)\n",
    "res = res[~pd.isnull(res.values)]"
   ]
  },
  {
   "cell_type": "code",
   "execution_count": 8,
   "metadata": {
    "ExecuteTime": {
     "end_time": "2016-11-10T12:04:54.870585",
     "start_time": "2016-11-10T12:04:54.857872"
    },
    "collapsed": false
   },
   "outputs": [
    {
     "data": {
      "text/plain": [
       "'4313,1264,821,1146,1124,2622,713,972,4280,1291'"
      ]
     },
     "execution_count": 8,
     "metadata": {},
     "output_type": "execute_result"
    }
   ],
   "source": [
    "\",\".join(map(str, res.sort_values().head(10).index))"
   ]
  }
 ],
 "metadata": {
  "kernelspec": {
   "display_name": "Python 3",
   "language": "python",
   "name": "python3"
  },
  "language_info": {
   "codemirror_mode": {
    "name": "ipython",
    "version": 3
   },
   "file_extension": ".py",
   "mimetype": "text/x-python",
   "name": "python",
   "nbconvert_exporter": "python",
   "pygments_lexer": "ipython3",
   "version": "3.5.2"
  }
 },
 "nbformat": 4,
 "nbformat_minor": 1
}
