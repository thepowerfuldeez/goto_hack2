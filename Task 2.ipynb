{
 "cells": [
  {
   "cell_type": "code",
   "execution_count": 1,
   "metadata": {
    "ExecuteTime": {
     "end_time": "2016-11-17T12:37:32.352924",
     "start_time": "2016-11-17T12:37:31.061104"
    },
    "collapsed": true
   },
   "outputs": [],
   "source": [
    "import pandas as pd\n",
    "import numpy as np\n",
    "from collections import defaultdict\n",
    "from tqdm import tqdm_notebook\n",
    "\n",
    "\n",
    "\n",
    "structure = pd.read_csv(\"course-217-structure.csv\").sort_values(by=[\"module_position\", \"lesson_position\", \"step_position\"])\n",
    "data = pd.read_csv(\"course-217-events.csv\")"
   ]
  },
  {
   "cell_type": "code",
   "execution_count": 2,
   "metadata": {
    "ExecuteTime": {
     "end_time": "2016-11-17T12:37:32.379127",
     "start_time": "2016-11-17T12:37:32.354562"
    },
    "collapsed": false
   },
   "outputs": [
    {
     "data": {
      "text/html": [
       "<div>\n",
       "<table border=\"1\" class=\"dataframe\">\n",
       "  <thead>\n",
       "    <tr style=\"text-align: right;\">\n",
       "      <th></th>\n",
       "      <th>course_id</th>\n",
       "      <th>module_id</th>\n",
       "      <th>module_position</th>\n",
       "      <th>lesson_id</th>\n",
       "      <th>lesson_position</th>\n",
       "      <th>step_id</th>\n",
       "      <th>step_position</th>\n",
       "      <th>step_type</th>\n",
       "      <th>step_cost</th>\n",
       "    </tr>\n",
       "  </thead>\n",
       "  <tbody>\n",
       "    <tr>\n",
       "      <th>219</th>\n",
       "      <td>217</td>\n",
       "      <td>635</td>\n",
       "      <td>1</td>\n",
       "      <td>13140</td>\n",
       "      <td>1</td>\n",
       "      <td>38518</td>\n",
       "      <td>1</td>\n",
       "      <td>text</td>\n",
       "      <td>0</td>\n",
       "    </tr>\n",
       "    <tr>\n",
       "      <th>221</th>\n",
       "      <td>217</td>\n",
       "      <td>635</td>\n",
       "      <td>1</td>\n",
       "      <td>13140</td>\n",
       "      <td>1</td>\n",
       "      <td>38521</td>\n",
       "      <td>2</td>\n",
       "      <td>text</td>\n",
       "      <td>0</td>\n",
       "    </tr>\n",
       "    <tr>\n",
       "      <th>220</th>\n",
       "      <td>217</td>\n",
       "      <td>635</td>\n",
       "      <td>1</td>\n",
       "      <td>13140</td>\n",
       "      <td>1</td>\n",
       "      <td>38519</td>\n",
       "      <td>3</td>\n",
       "      <td>choice</td>\n",
       "      <td>0</td>\n",
       "    </tr>\n",
       "    <tr>\n",
       "      <th>229</th>\n",
       "      <td>217</td>\n",
       "      <td>635</td>\n",
       "      <td>1</td>\n",
       "      <td>13140</td>\n",
       "      <td>1</td>\n",
       "      <td>38529</td>\n",
       "      <td>4</td>\n",
       "      <td>code</td>\n",
       "      <td>1</td>\n",
       "    </tr>\n",
       "    <tr>\n",
       "      <th>227</th>\n",
       "      <td>217</td>\n",
       "      <td>635</td>\n",
       "      <td>1</td>\n",
       "      <td>13140</td>\n",
       "      <td>1</td>\n",
       "      <td>38527</td>\n",
       "      <td>5</td>\n",
       "      <td>text</td>\n",
       "      <td>0</td>\n",
       "    </tr>\n",
       "  </tbody>\n",
       "</table>\n",
       "</div>"
      ],
      "text/plain": [
       "     course_id  module_id  module_position  lesson_id  lesson_position  \\\n",
       "219        217        635                1      13140                1   \n",
       "221        217        635                1      13140                1   \n",
       "220        217        635                1      13140                1   \n",
       "229        217        635                1      13140                1   \n",
       "227        217        635                1      13140                1   \n",
       "\n",
       "     step_id  step_position step_type  step_cost  \n",
       "219    38518              1      text          0  \n",
       "221    38521              2      text          0  \n",
       "220    38519              3    choice          0  \n",
       "229    38529              4      code          1  \n",
       "227    38527              5      text          0  "
      ]
     },
     "execution_count": 2,
     "metadata": {},
     "output_type": "execute_result"
    }
   ],
   "source": [
    "structure.head()"
   ]
  },
  {
   "cell_type": "code",
   "execution_count": 3,
   "metadata": {
    "ExecuteTime": {
     "end_time": "2016-11-17T12:37:32.383882",
     "start_time": "2016-11-17T12:37:32.381346"
    },
    "collapsed": true
   },
   "outputs": [],
   "source": [
    "step_ids = structure.step_id.values\n",
    "steps = defaultdict(set)"
   ]
  },
  {
   "cell_type": "code",
   "execution_count": 4,
   "metadata": {
    "ExecuteTime": {
     "end_time": "2016-11-17T12:37:33.614123",
     "start_time": "2016-11-17T12:37:33.610763"
    },
    "collapsed": true
   },
   "outputs": [],
   "source": [
    "def get_next_step(step_id):\n",
    "    if not step_id == 83966:\n",
    "        return step_ids[np.where(step_id == step_ids)[0][0] + 1]"
   ]
  },
  {
   "cell_type": "code",
   "execution_count": 5,
   "metadata": {
    "ExecuteTime": {
     "end_time": "2016-11-17T12:37:35.560145",
     "start_time": "2016-11-17T12:37:35.556532"
    },
    "collapsed": false
   },
   "outputs": [
    {
     "data": {
      "text/plain": [
       "38521"
      ]
     },
     "execution_count": 5,
     "metadata": {},
     "output_type": "execute_result"
    }
   ],
   "source": [
    "get_next_step(38518)"
   ]
  },
  {
   "cell_type": "code",
   "execution_count": 15,
   "metadata": {
    "ExecuteTime": {
     "end_time": "2016-11-17T12:43:56.971719",
     "start_time": "2016-11-17T12:43:18.989090"
    },
    "collapsed": false
   },
   "outputs": [
    {
     "name": "stdout",
     "output_type": "stream",
     "text": [
      "\n"
     ]
    },
    {
     "name": "stderr",
     "output_type": "stream",
     "text": [
      "/Library/anaconda/lib/python3.5/site-packages/ipykernel/__main__.py:12: FutureWarning: comparison to `None` will result in an elementwise object comparison in the future.\n"
     ]
    }
   ],
   "source": [
    "res = defaultdict(set)\n",
    "\n",
    "for user_id in tqdm_notebook(data.user_id.unique()):\n",
    "    # проходим по всем юзерам и находим их степы\n",
    "    user_steps = data[data.user_id == user_id].step_id.values\n",
    "    # теперь составляем словарь степ - все его пользователи\n",
    "    for i, step in enumerate(user_steps):\n",
    "        steps[step].add(user_id)\n",
    "        next_step = get_next_step(step)\n",
    "        try:\n",
    "            index_a = np.where(step == user_steps[:i])[0][0]\n",
    "            index_b = i - np.where(next_step == user_steps[:i][::-1])[0][0] - 1\n",
    "            if index_a < index_b:\n",
    "                res[step].add(user_id)           \n",
    "        except:\n",
    "            pass\n",
    "        "
   ]
  },
  {
   "cell_type": "code",
   "execution_count": 16,
   "metadata": {
    "ExecuteTime": {
     "end_time": "2016-11-17T12:43:57.719143",
     "start_time": "2016-11-17T12:43:57.714786"
    },
    "collapsed": false
   },
   "outputs": [
    {
     "data": {
      "text/plain": [
       "561"
      ]
     },
     "execution_count": 16,
     "metadata": {},
     "output_type": "execute_result"
    }
   ],
   "source": [
    "len(res[41684])"
   ]
  },
  {
   "cell_type": "code",
   "execution_count": 17,
   "metadata": {
    "ExecuteTime": {
     "end_time": "2016-11-17T12:43:59.210858",
     "start_time": "2016-11-17T12:43:59.207384"
    },
    "collapsed": false
   },
   "outputs": [],
   "source": [
    "a = {i: len(res[i]) / len(steps[i]) for i in steps.keys()}"
   ]
  },
  {
   "cell_type": "code",
   "execution_count": 21,
   "metadata": {
    "ExecuteTime": {
     "end_time": "2016-11-17T13:19:00.310639",
     "start_time": "2016-11-17T13:19:00.306081"
    },
    "collapsed": false
   },
   "outputs": [
    {
     "data": {
      "text/plain": [
       "0.7460106382978723"
      ]
     },
     "execution_count": 21,
     "metadata": {},
     "output_type": "execute_result"
    }
   ],
   "source": [
    "a[41684]"
   ]
  },
  {
   "cell_type": "code",
   "execution_count": 19,
   "metadata": {
    "ExecuteTime": {
     "end_time": "2016-11-17T12:44:00.786054",
     "start_time": "2016-11-17T12:44:00.781425"
    },
    "collapsed": false
   },
   "outputs": [
    {
     "data": {
      "text/plain": [
       "[41684, 41604, 41097, 41481, 42593, 38872, 41686, 39735, 39740, 39717]"
      ]
     },
     "execution_count": 19,
     "metadata": {},
     "output_type": "execute_result"
    }
   ],
   "source": [
    "sorted([k for k in a], key=lambda k: a[k], reverse=True)[:10]"
   ]
  },
  {
   "cell_type": "code",
   "execution_count": 20,
   "metadata": {
    "ExecuteTime": {
     "end_time": "2016-11-17T12:44:36.958067",
     "start_time": "2016-11-17T12:44:36.953314"
    },
    "collapsed": false
   },
   "outputs": [
    {
     "data": {
      "text/plain": [
       "'41684,41604,41097,41481,42593,38872,41686,39735,39740,39717'"
      ]
     },
     "execution_count": 20,
     "metadata": {},
     "output_type": "execute_result"
    }
   ],
   "source": [
    "\",\".join(map(str, sorted([k for k in a], key=lambda k: a[k], reverse=True)[:10]))"
   ]
  },
  {
   "cell_type": "code",
   "execution_count": null,
   "metadata": {
    "collapsed": true
   },
   "outputs": [],
   "source": []
  }
 ],
 "metadata": {
  "kernelspec": {
   "display_name": "Python 3",
   "language": "python",
   "name": "python3"
  },
  "language_info": {
   "codemirror_mode": {
    "name": "ipython",
    "version": 3
   },
   "file_extension": ".py",
   "mimetype": "text/x-python",
   "name": "python",
   "nbconvert_exporter": "python",
   "pygments_lexer": "ipython3",
   "version": "3.5.2"
  }
 },
 "nbformat": 4,
 "nbformat_minor": 1
}
