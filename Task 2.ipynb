{
 "cells": [
  {
   "cell_type": "code",
   "execution_count": 1,
   "metadata": {
    "ExecuteTime": {
     "end_time": "2016-11-10T15:16:45.886457",
     "start_time": "2016-11-10T15:16:44.607781"
    },
    "collapsed": true
   },
   "outputs": [],
   "source": [
    "import pandas as pd\n",
    "structure = pd.read_csv(\"course-217-structure.csv\")\n",
    "data = pd.read_csv(\"course-217-events.csv\")"
   ]
  },
  {
   "cell_type": "code",
   "execution_count": 2,
   "metadata": {
    "ExecuteTime": {
     "end_time": "2016-11-10T15:16:46.678202",
     "start_time": "2016-11-10T15:16:46.330133"
    },
    "collapsed": true
   },
   "outputs": [],
   "source": [
    "import numpy as np\n",
    "import numba"
   ]
  },
  {
   "cell_type": "code",
   "execution_count": 3,
   "metadata": {
    "ExecuteTime": {
     "end_time": "2016-11-10T15:16:46.877833",
     "start_time": "2016-11-10T15:16:46.857029"
    },
    "collapsed": false
   },
   "outputs": [
    {
     "data": {
      "text/html": [
       "<div>\n",
       "<table border=\"1\" class=\"dataframe\">\n",
       "  <thead>\n",
       "    <tr style=\"text-align: right;\">\n",
       "      <th></th>\n",
       "      <th>course_id</th>\n",
       "      <th>module_id</th>\n",
       "      <th>module_position</th>\n",
       "      <th>lesson_id</th>\n",
       "      <th>lesson_position</th>\n",
       "      <th>step_id</th>\n",
       "      <th>step_position</th>\n",
       "      <th>step_type</th>\n",
       "      <th>step_cost</th>\n",
       "    </tr>\n",
       "  </thead>\n",
       "  <tbody>\n",
       "    <tr>\n",
       "      <th>0</th>\n",
       "      <td>217</td>\n",
       "      <td>614</td>\n",
       "      <td>2</td>\n",
       "      <td>13228</td>\n",
       "      <td>2</td>\n",
       "      <td>38842</td>\n",
       "      <td>1</td>\n",
       "      <td>text</td>\n",
       "      <td>0</td>\n",
       "    </tr>\n",
       "    <tr>\n",
       "      <th>1</th>\n",
       "      <td>217</td>\n",
       "      <td>614</td>\n",
       "      <td>2</td>\n",
       "      <td>13228</td>\n",
       "      <td>2</td>\n",
       "      <td>39715</td>\n",
       "      <td>6</td>\n",
       "      <td>code</td>\n",
       "      <td>1</td>\n",
       "    </tr>\n",
       "    <tr>\n",
       "      <th>2</th>\n",
       "      <td>217</td>\n",
       "      <td>614</td>\n",
       "      <td>2</td>\n",
       "      <td>13228</td>\n",
       "      <td>2</td>\n",
       "      <td>39716</td>\n",
       "      <td>7</td>\n",
       "      <td>code</td>\n",
       "      <td>1</td>\n",
       "    </tr>\n",
       "    <tr>\n",
       "      <th>3</th>\n",
       "      <td>217</td>\n",
       "      <td>614</td>\n",
       "      <td>2</td>\n",
       "      <td>13228</td>\n",
       "      <td>2</td>\n",
       "      <td>39717</td>\n",
       "      <td>8</td>\n",
       "      <td>code</td>\n",
       "      <td>1</td>\n",
       "    </tr>\n",
       "    <tr>\n",
       "      <th>4</th>\n",
       "      <td>217</td>\n",
       "      <td>614</td>\n",
       "      <td>2</td>\n",
       "      <td>13228</td>\n",
       "      <td>2</td>\n",
       "      <td>39721</td>\n",
       "      <td>9</td>\n",
       "      <td>free-answer</td>\n",
       "      <td>0</td>\n",
       "    </tr>\n",
       "  </tbody>\n",
       "</table>\n",
       "</div>"
      ],
      "text/plain": [
       "   course_id  module_id  module_position  lesson_id  lesson_position  step_id  \\\n",
       "0        217        614                2      13228                2    38842   \n",
       "1        217        614                2      13228                2    39715   \n",
       "2        217        614                2      13228                2    39716   \n",
       "3        217        614                2      13228                2    39717   \n",
       "4        217        614                2      13228                2    39721   \n",
       "\n",
       "   step_position    step_type  step_cost  \n",
       "0              1         text          0  \n",
       "1              6         code          1  \n",
       "2              7         code          1  \n",
       "3              8         code          1  \n",
       "4              9  free-answer          0  "
      ]
     },
     "execution_count": 3,
     "metadata": {},
     "output_type": "execute_result"
    }
   ],
   "source": [
    "structure.head()"
   ]
  },
  {
   "cell_type": "code",
   "execution_count": 4,
   "metadata": {
    "ExecuteTime": {
     "end_time": "2016-11-10T15:16:47.366975",
     "start_time": "2016-11-10T15:16:47.362586"
    },
    "collapsed": false
   },
   "outputs": [],
   "source": [
    "pos_df = structure.ix[:, [-4, 2, 4, 6]].sort_values(\"module_position\")"
   ]
  },
  {
   "cell_type": "code",
   "execution_count": 5,
   "metadata": {
    "ExecuteTime": {
     "end_time": "2016-11-10T15:16:48.143597",
     "start_time": "2016-11-10T15:16:48.106001"
    },
    "collapsed": false
   },
   "outputs": [],
   "source": [
    "from tqdm import tqdm, tqdm_notebook"
   ]
  },
  {
   "cell_type": "code",
   "execution_count": 6,
   "metadata": {
    "ExecuteTime": {
     "end_time": "2016-11-10T15:16:49.432760",
     "start_time": "2016-11-10T15:16:49.423110"
    },
    "collapsed": false
   },
   "outputs": [],
   "source": [
    "pos_array = []\n",
    "\n",
    "for i in range(1, 11):\n",
    "    for j in range(1, 10):\n",
    "        for k in range(1, 14):\n",
    "            pos_array.append([i, j, k])\n",
    "            \n",
    "pos_dict = {}\n",
    "for i, pos in enumerate(pos_array):\n",
    "    pos_dict[i] = pos"
   ]
  },
  {
   "cell_type": "code",
   "execution_count": null,
   "metadata": {
    "collapsed": true
   },
   "outputs": [],
   "source": []
  },
  {
   "cell_type": "code",
   "execution_count": 7,
   "metadata": {
    "ExecuteTime": {
     "end_time": "2016-11-10T15:16:50.035343",
     "start_time": "2016-11-10T15:16:50.026978"
    },
    "collapsed": true
   },
   "outputs": [],
   "source": [
    "def get_next_step_id(step_id):\n",
    "    cur_pos = list(pos_df[pos_df.step_id == step_id].ix[:, [1,2,3]].values[0])\n",
    "#     print(cur_pos)\n",
    "    \n",
    "    for key in pos_dict:\n",
    "        if pos_dict[key] == cur_pos:\n",
    "            i = key\n",
    "            break\n",
    "    \n",
    "    for j in range(i + 1, 13*9*10+1):\n",
    "        pos = pos_dict[j]\n",
    "        if not pos_df.query(\"(module_position == {0}) & (lesson_position == {1}) & (step_position == {2})\".format(*pos)).empty:\n",
    "            return pos_df.query(\"(module_position == {0}) & (lesson_position == {1}) & (step_position == {2})\".format(*pos)).step_id"
   ]
  },
  {
   "cell_type": "code",
   "execution_count": 8,
   "metadata": {
    "ExecuteTime": {
     "end_time": "2016-11-10T16:25:26.300014",
     "start_time": "2016-11-10T15:16:52.748292"
    },
    "collapsed": false,
    "scrolled": true
   },
   "outputs": [
    {
     "name": "stderr",
     "output_type": "stream",
     "text": [
      "100%|██████████| 7663/7663 [1:08:33<00:00,  1.86it/s]\n"
     ]
    }
   ],
   "source": [
    "def f(x):\n",
    "    res = []\n",
    "    try:\n",
    "        for step_id in np.unique(x.step_id):\n",
    "            first = second = third = False\n",
    "\n",
    "            next_step_id = get_next_step_id(step_id).values[0]\n",
    "            if next_step_id:\n",
    "                for cur_step_id in x.step_id:\n",
    "                    if first and second and third:\n",
    "                        res.append(step_id)\n",
    "                        break\n",
    "\n",
    "                    if cur_step_id == step_id and not first:\n",
    "                        first = True\n",
    "                    if cur_step_id == next_step_id and not second:\n",
    "                        second = True\n",
    "                    if cur_step_id == step_id and not third:\n",
    "                        third = True\n",
    "    except:\n",
    "        pass\n",
    "    return res\n",
    "\n",
    "tqdm.pandas()\n",
    "returnable_users = data.sort_values(\"time\").groupby(\"user_id\").progress_apply(f)"
   ]
  },
  {
   "cell_type": "code",
   "execution_count": 9,
   "metadata": {
    "ExecuteTime": {
     "end_time": "2016-11-10T16:25:29.093625",
     "start_time": "2016-11-10T16:25:28.928266"
    },
    "collapsed": false
   },
   "outputs": [],
   "source": [
    "returnable_users = [np.unique(x) for x in returnable_users]"
   ]
  },
  {
   "cell_type": "code",
   "execution_count": 16,
   "metadata": {
    "ExecuteTime": {
     "end_time": "2016-11-10T16:28:33.001523",
     "start_time": "2016-11-10T16:28:32.997273"
    },
    "collapsed": false
   },
   "outputs": [
    {
     "data": {
      "text/plain": [
       "(41,)"
      ]
     },
     "execution_count": 16,
     "metadata": {},
     "output_type": "execute_result"
    }
   ],
   "source": [
    "returnable_users[32].shape"
   ]
  },
  {
   "cell_type": "code",
   "execution_count": 10,
   "metadata": {
    "ExecuteTime": {
     "end_time": "2016-11-10T16:25:31.024527",
     "start_time": "2016-11-10T16:25:30.914023"
    },
    "collapsed": false
   },
   "outputs": [],
   "source": [
    "from collections import Counter\n",
    "c = Counter()\n",
    "\n",
    "for ar in returnable_users:\n",
    "    c.update(ar)\n"
   ]
  },
  {
   "cell_type": "code",
   "execution_count": 17,
   "metadata": {
    "ExecuteTime": {
     "end_time": "2016-11-10T16:28:59.072071",
     "start_time": "2016-11-10T16:28:59.052906"
    },
    "collapsed": false
   },
   "outputs": [
    {
     "data": {
      "text/plain": [
       "[(38518, 6320),\n",
       " (38521, 6099),\n",
       " (38519, 6042),\n",
       " (38529, 5553),\n",
       " (38527, 5487),\n",
       " (38522, 5340),\n",
       " (38523, 5205),\n",
       " (38524, 5121),\n",
       " (38854, 5114),\n",
       " (38525, 5049),\n",
       " (38528, 5007),\n",
       " (39236, 4951),\n",
       " (64865, 4784),\n",
       " (38842, 4779),\n",
       " (42384, 4180),\n",
       " (42385, 4012),\n",
       " (42383, 3906),\n",
       " (42386, 3817),\n",
       " (39715, 3813),\n",
       " (39716, 3629),\n",
       " (39717, 3430),\n",
       " (39721, 3057),\n",
       " (38845, 2824),\n",
       " (42391, 2617),\n",
       " (40665, 2545),\n",
       " (42390, 2514),\n",
       " (40679, 2500),\n",
       " (38848, 2459),\n",
       " (42392, 2426),\n",
       " (40681, 2359),\n",
       " (42397, 2348),\n",
       " (40680, 2309),\n",
       " (40684, 2296),\n",
       " (42396, 2279),\n",
       " (38872, 2183),\n",
       " (42399, 2180),\n",
       " (42398, 2154),\n",
       " (42400, 2123),\n",
       " (40683, 2106),\n",
       " (44383, 2008),\n",
       " (44380, 1933),\n",
       " (44381, 1853),\n",
       " (44382, 1804),\n",
       " (39735, 1800),\n",
       " (44807, 1775),\n",
       " (44808, 1756),\n",
       " (39740, 1720),\n",
       " (44806, 1715),\n",
       " (41216, 1617),\n",
       " (38875, 1614),\n",
       " (39741, 1581),\n",
       " (44387, 1500),\n",
       " (44386, 1443),\n",
       " (41097, 1411),\n",
       " (44385, 1357),\n",
       " (38526, 1345),\n",
       " (83925, 1300),\n",
       " (41099, 1294),\n",
       " (38878, 1284),\n",
       " (41184, 1266),\n",
       " (38897, 1246),\n",
       " (41100, 1239),\n",
       " (41098, 1229),\n",
       " (44393, 1218),\n",
       " (44392, 1190),\n",
       " (47285, 1183),\n",
       " (44391, 1182),\n",
       " (41388, 1172),\n",
       " (41381, 1164),\n",
       " (44809, 1152),\n",
       " (47286, 1113),\n",
       " (38900, 1057),\n",
       " (41390, 1016),\n",
       " (38903, 994),\n",
       " (41389, 987),\n",
       " (47287, 970),\n",
       " (40459, 958),\n",
       " (47296, 956),\n",
       " (47292, 928),\n",
       " (47297, 926),\n",
       " (41391, 915),\n",
       " (47289, 914),\n",
       " (38906, 911),\n",
       " (41482, 910),\n",
       " (47390, 907),\n",
       " (47291, 900),\n",
       " (47765, 889),\n",
       " (47290, 889),\n",
       " (38927, 879),\n",
       " (41481, 857),\n",
       " (41478, 852),\n",
       " (47391, 849),\n",
       " (38930, 848),\n",
       " (47288, 846),\n",
       " (38918, 841),\n",
       " (41604, 835),\n",
       " (47415, 817),\n",
       " (38909, 806),\n",
       " (41603, 803),\n",
       " (47392, 795),\n",
       " (47420, 789),\n",
       " (47416, 788),\n",
       " (38915, 771),\n",
       " (47421, 760),\n",
       " (38912, 756),\n",
       " (47394, 756),\n",
       " (41605, 754),\n",
       " (41484, 740),\n",
       " (47393, 730),\n",
       " (47422, 730),\n",
       " (47414, 727),\n",
       " (41684, 724),\n",
       " (38933, 720),\n",
       " (41392, 714),\n",
       " (47408, 712),\n",
       " (47395, 708),\n",
       " (42593, 703),\n",
       " (38936, 702),\n",
       " (41685, 690),\n",
       " (47434, 680),\n",
       " (41686, 676),\n",
       " (41480, 665),\n",
       " (38857, 663),\n",
       " (38945, 660),\n",
       " (47437, 657),\n",
       " (47396, 653),\n",
       " (47440, 646),\n",
       " (47436, 640),\n",
       " (47435, 621),\n",
       " (41683, 619),\n",
       " (47438, 615),\n",
       " (47441, 613),\n",
       " (44104, 611),\n",
       " (41101, 603),\n",
       " (47439, 602),\n",
       " (47453, 601),\n",
       " (47442, 595),\n",
       " (38942, 552),\n",
       " (48857, 552),\n",
       " (44115, 543),\n",
       " (38939, 531),\n",
       " (48831, 531),\n",
       " (47446, 527),\n",
       " (44114, 502),\n",
       " (48366, 502),\n",
       " (47445, 497),\n",
       " (47443, 495),\n",
       " (44113, 485),\n",
       " (44112, 483),\n",
       " (47444, 478),\n",
       " (48832, 469),\n",
       " (38860, 466),\n",
       " (44116, 451),\n",
       " (48836, 443),\n",
       " (48367, 442),\n",
       " (44122, 426),\n",
       " (48514, 423),\n",
       " (48835, 414),\n",
       " (48834, 408),\n",
       " (48515, 393),\n",
       " (48864, 389),\n",
       " (48513, 386),\n",
       " (48833, 382),\n",
       " (44124, 377),\n",
       " (44399, 371),\n",
       " (41479, 368),\n",
       " (48559, 364),\n",
       " (44123, 359),\n",
       " (48516, 359),\n",
       " (48560, 355),\n",
       " (48839, 354),\n",
       " (44120, 353),\n",
       " (44125, 353),\n",
       " (44133, 352),\n",
       " (52721, 349),\n",
       " (48837, 345),\n",
       " (44126, 342),\n",
       " (48838, 341),\n",
       " (48842, 340),\n",
       " (44136, 321),\n",
       " (53260, 316),\n",
       " (52720, 316),\n",
       " (44135, 311),\n",
       " (44134, 304),\n",
       " (48841, 303),\n",
       " (52716, 300),\n",
       " (53252, 297),\n",
       " (52708, 292),\n",
       " (53254, 288),\n",
       " (52690, 286),\n",
       " (53261, 281),\n",
       " (53253, 280),\n",
       " (55132, 279),\n",
       " (52691, 278),\n",
       " (52710, 272),\n",
       " (54987, 269),\n",
       " (53255, 268),\n",
       " (52709, 264),\n",
       " (52712, 262),\n",
       " (55045, 259),\n",
       " (55133, 258),\n",
       " (52692, 257),\n",
       " (54989, 252),\n",
       " (55134, 247),\n",
       " (55135, 244),\n",
       " (55044, 238),\n",
       " (55137, 236),\n",
       " (55136, 231),\n",
       " (54999, 229),\n",
       " (55129, 227),\n",
       " (55026, 219),\n",
       " (61520, 218),\n",
       " (55028, 216),\n",
       " (58904, 215),\n",
       " (55027, 214),\n",
       " (52722, 214),\n",
       " (62158, 200),\n",
       " (53262, 196),\n",
       " (61522, 191),\n",
       " (55130, 190),\n",
       " (61540, 189),\n",
       " (61521, 181),\n",
       " (61608, 180),\n",
       " (54988, 180),\n",
       " (61542, 168),\n",
       " (52711, 168),\n",
       " (61541, 161),\n",
       " (61543, 161),\n",
       " (61586, 160),\n",
       " (61609, 135),\n",
       " (61523, 132),\n",
       " (61585, 56)]"
      ]
     },
     "execution_count": 17,
     "metadata": {},
     "output_type": "execute_result"
    }
   ],
   "source": [
    "c.most_common()"
   ]
  },
  {
   "cell_type": "code",
   "execution_count": 12,
   "metadata": {
    "ExecuteTime": {
     "end_time": "2016-11-10T16:25:51.455320",
     "start_time": "2016-11-10T16:25:46.877218"
    },
    "collapsed": false
   },
   "outputs": [],
   "source": [
    "coeffs = [(key, c[key] / len(data[data.step_id == key].groupby(\"user_id\"))) for key in c]"
   ]
  },
  {
   "cell_type": "code",
   "execution_count": 13,
   "metadata": {
    "ExecuteTime": {
     "end_time": "2016-11-10T16:25:53.976036",
     "start_time": "2016-11-10T16:25:53.967644"
    },
    "collapsed": false
   },
   "outputs": [
    {
     "data": {
      "text/plain": [
       "[(47438, 0.9887459807073955),\n",
       " (44391, 0.9882943143812709),\n",
       " (38528, 0.9881586737714624),\n",
       " (39236, 0.9846857597454256),\n",
       " (48838, 0.9827089337175793),\n",
       " (48842, 0.9826589595375722),\n",
       " (47290, 0.9823204419889503),\n",
       " (42398, 0.9822161422708618),\n",
       " (38525, 0.9813411078717201),\n",
       " (38524, 0.980846581114729)]"
      ]
     },
     "execution_count": 13,
     "metadata": {},
     "output_type": "execute_result"
    },
    {
     "data": {
      "text/plain": [
       "'47438,44391,38528,39236,48838,48842,47290,42398,38525,38524'"
      ]
     },
     "execution_count": 13,
     "metadata": {},
     "output_type": "execute_result"
    }
   ],
   "source": [
    "res = sorted(coeffs, reverse=True, key=lambda x: x[1])[:10]\n",
    "res\n",
    "\",\".join([str(x[0]) for x in res])"
   ]
  },
  {
   "cell_type": "code",
   "execution_count": 31,
   "metadata": {
    "ExecuteTime": {
     "end_time": "2016-11-09T02:43:55.156264",
     "start_time": "2016-11-09T02:43:55.148625"
    },
    "collapsed": false
   },
   "outputs": [
    {
     "data": {
      "text/plain": [
       "1125"
      ]
     },
     "execution_count": 31,
     "metadata": {},
     "output_type": "execute_result"
    }
   ],
   "source": [
    "len(data[data.step_id == 44120].groupby(\"user_id\"))"
   ]
  },
  {
   "cell_type": "code",
   "execution_count": null,
   "metadata": {
    "collapsed": true
   },
   "outputs": [],
   "source": []
  }
 ],
 "metadata": {
  "kernelspec": {
   "display_name": "Python 3",
   "language": "python",
   "name": "python3"
  },
  "language_info": {
   "codemirror_mode": {
    "name": "ipython",
    "version": 3
   },
   "file_extension": ".py",
   "mimetype": "text/x-python",
   "name": "python",
   "nbconvert_exporter": "python",
   "pygments_lexer": "ipython3",
   "version": "3.5.2"
  }
 },
 "nbformat": 4,
 "nbformat_minor": 1
}
