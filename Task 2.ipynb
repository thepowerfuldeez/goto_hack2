{
 "cells": [
  {
   "cell_type": "code",
   "execution_count": 1,
   "metadata": {
    "ExecuteTime": {
     "end_time": "2016-11-09T01:52:20.659596",
     "start_time": "2016-11-09T01:52:19.340393"
    },
    "collapsed": true
   },
   "outputs": [],
   "source": [
    "import pandas as pd\n",
    "structure = pd.read_csv(\"course-217-structure.csv\")\n",
    "data = pd.read_csv(\"course-217-events.csv\")"
   ]
  },
  {
   "cell_type": "code",
   "execution_count": 2,
   "metadata": {
    "ExecuteTime": {
     "end_time": "2016-11-09T01:52:21.567447",
     "start_time": "2016-11-09T01:52:21.223751"
    },
    "collapsed": true
   },
   "outputs": [],
   "source": [
    "import numpy as np\n",
    "import numba"
   ]
  },
  {
   "cell_type": "code",
   "execution_count": 5,
   "metadata": {
    "ExecuteTime": {
     "end_time": "2016-11-09T01:52:29.862757",
     "start_time": "2016-11-09T01:52:29.849479"
    },
    "collapsed": false
   },
   "outputs": [
    {
     "data": {
      "text/html": [
       "<div>\n",
       "<table border=\"1\" class=\"dataframe\">\n",
       "  <thead>\n",
       "    <tr style=\"text-align: right;\">\n",
       "      <th></th>\n",
       "      <th>course_id</th>\n",
       "      <th>module_id</th>\n",
       "      <th>module_position</th>\n",
       "      <th>lesson_id</th>\n",
       "      <th>lesson_position</th>\n",
       "      <th>step_id</th>\n",
       "      <th>step_position</th>\n",
       "      <th>step_type</th>\n",
       "      <th>step_cost</th>\n",
       "    </tr>\n",
       "  </thead>\n",
       "  <tbody>\n",
       "    <tr>\n",
       "      <th>0</th>\n",
       "      <td>217</td>\n",
       "      <td>614</td>\n",
       "      <td>2</td>\n",
       "      <td>13228</td>\n",
       "      <td>2</td>\n",
       "      <td>38842</td>\n",
       "      <td>1</td>\n",
       "      <td>text</td>\n",
       "      <td>0</td>\n",
       "    </tr>\n",
       "    <tr>\n",
       "      <th>1</th>\n",
       "      <td>217</td>\n",
       "      <td>614</td>\n",
       "      <td>2</td>\n",
       "      <td>13228</td>\n",
       "      <td>2</td>\n",
       "      <td>39715</td>\n",
       "      <td>6</td>\n",
       "      <td>code</td>\n",
       "      <td>1</td>\n",
       "    </tr>\n",
       "    <tr>\n",
       "      <th>2</th>\n",
       "      <td>217</td>\n",
       "      <td>614</td>\n",
       "      <td>2</td>\n",
       "      <td>13228</td>\n",
       "      <td>2</td>\n",
       "      <td>39716</td>\n",
       "      <td>7</td>\n",
       "      <td>code</td>\n",
       "      <td>1</td>\n",
       "    </tr>\n",
       "    <tr>\n",
       "      <th>3</th>\n",
       "      <td>217</td>\n",
       "      <td>614</td>\n",
       "      <td>2</td>\n",
       "      <td>13228</td>\n",
       "      <td>2</td>\n",
       "      <td>39717</td>\n",
       "      <td>8</td>\n",
       "      <td>code</td>\n",
       "      <td>1</td>\n",
       "    </tr>\n",
       "    <tr>\n",
       "      <th>4</th>\n",
       "      <td>217</td>\n",
       "      <td>614</td>\n",
       "      <td>2</td>\n",
       "      <td>13228</td>\n",
       "      <td>2</td>\n",
       "      <td>39721</td>\n",
       "      <td>9</td>\n",
       "      <td>free-answer</td>\n",
       "      <td>0</td>\n",
       "    </tr>\n",
       "  </tbody>\n",
       "</table>\n",
       "</div>"
      ],
      "text/plain": [
       "   course_id  module_id  module_position  lesson_id  lesson_position  step_id  \\\n",
       "0        217        614                2      13228                2    38842   \n",
       "1        217        614                2      13228                2    39715   \n",
       "2        217        614                2      13228                2    39716   \n",
       "3        217        614                2      13228                2    39717   \n",
       "4        217        614                2      13228                2    39721   \n",
       "\n",
       "   step_position    step_type  step_cost  \n",
       "0              1         text          0  \n",
       "1              6         code          1  \n",
       "2              7         code          1  \n",
       "3              8         code          1  \n",
       "4              9  free-answer          0  "
      ]
     },
     "execution_count": 5,
     "metadata": {},
     "output_type": "execute_result"
    }
   ],
   "source": [
    "structure.head()"
   ]
  },
  {
   "cell_type": "code",
   "execution_count": 6,
   "metadata": {
    "ExecuteTime": {
     "end_time": "2016-11-09T01:52:31.322139",
     "start_time": "2016-11-09T01:52:31.317514"
    },
    "collapsed": false
   },
   "outputs": [],
   "source": [
    "pos_df = structure.ix[:, [-4, 2, 4, 6]].sort_values(\"module_position\")"
   ]
  },
  {
   "cell_type": "code",
   "execution_count": 7,
   "metadata": {
    "ExecuteTime": {
     "end_time": "2016-11-09T01:52:33.339248",
     "start_time": "2016-11-09T01:52:33.331004"
    },
    "collapsed": false
   },
   "outputs": [
    {
     "data": {
      "text/html": [
       "<div>\n",
       "<table border=\"1\" class=\"dataframe\">\n",
       "  <thead>\n",
       "    <tr style=\"text-align: right;\">\n",
       "      <th></th>\n",
       "      <th>step_id</th>\n",
       "      <th>module_position</th>\n",
       "      <th>lesson_position</th>\n",
       "      <th>step_position</th>\n",
       "    </tr>\n",
       "  </thead>\n",
       "  <tbody>\n",
       "    <tr>\n",
       "      <th>223</th>\n",
       "      <td>38523</td>\n",
       "      <td>1</td>\n",
       "      <td>1</td>\n",
       "      <td>7</td>\n",
       "    </tr>\n",
       "    <tr>\n",
       "      <th>231</th>\n",
       "      <td>83925</td>\n",
       "      <td>1</td>\n",
       "      <td>1</td>\n",
       "      <td>13</td>\n",
       "    </tr>\n",
       "    <tr>\n",
       "      <th>219</th>\n",
       "      <td>38518</td>\n",
       "      <td>1</td>\n",
       "      <td>1</td>\n",
       "      <td>1</td>\n",
       "    </tr>\n",
       "    <tr>\n",
       "      <th>220</th>\n",
       "      <td>38519</td>\n",
       "      <td>1</td>\n",
       "      <td>1</td>\n",
       "      <td>3</td>\n",
       "    </tr>\n",
       "    <tr>\n",
       "      <th>222</th>\n",
       "      <td>38522</td>\n",
       "      <td>1</td>\n",
       "      <td>1</td>\n",
       "      <td>6</td>\n",
       "    </tr>\n",
       "  </tbody>\n",
       "</table>\n",
       "</div>"
      ],
      "text/plain": [
       "     step_id  module_position  lesson_position  step_position\n",
       "223    38523                1                1              7\n",
       "231    83925                1                1             13\n",
       "219    38518                1                1              1\n",
       "220    38519                1                1              3\n",
       "222    38522                1                1              6"
      ]
     },
     "execution_count": 7,
     "metadata": {},
     "output_type": "execute_result"
    }
   ],
   "source": [
    "pos_df.head()"
   ]
  },
  {
   "cell_type": "code",
   "execution_count": 8,
   "metadata": {
    "ExecuteTime": {
     "end_time": "2016-11-09T01:52:38.000652",
     "start_time": "2016-11-09T01:52:37.951129"
    },
    "collapsed": false
   },
   "outputs": [],
   "source": [
    "from tqdm import tqdm, tqdm_notebook"
   ]
  },
  {
   "cell_type": "code",
   "execution_count": null,
   "metadata": {
    "collapsed": true
   },
   "outputs": [],
   "source": []
  },
  {
   "cell_type": "code",
   "execution_count": 9,
   "metadata": {
    "ExecuteTime": {
     "end_time": "2016-11-09T01:52:44.008601",
     "start_time": "2016-11-09T01:52:44.002610"
    },
    "collapsed": true
   },
   "outputs": [],
   "source": [
    "def get_next_step_id(cur_pos):\n",
    "    if not pos_df.query(\"(module_position == {0}) & (lesson_position == {1}) & (step_position == {2} + 1)\".format(*cur_pos)).empty:\n",
    "        return pos_df.query(\"(module_position == {0}) & (lesson_position == {1}) & (step_position == {2} + 1)\".format(*cur_pos)).step_id\n",
    "    elif not pos_df.query(\"(module_position == {0}) & (lesson_position == {1} + 1) & (step_position == {2})\".format(*cur_pos)).empty:\n",
    "        return pos_df.query(\"(module_position == {0}) & (lesson_position == {1} + 1) & (step_position == {2})\".format(*cur_pos)).step_id\n",
    "    else:\n",
    "        return pos_df.query(\"(module_position == {0} + 1) & (lesson_position == {1}) & (step_position == {2})\".format(*cur_pos)).step_id"
   ]
  },
  {
   "cell_type": "code",
   "execution_count": 13,
   "metadata": {
    "ExecuteTime": {
     "end_time": "2016-11-09T01:53:00.196454",
     "start_time": "2016-11-09T01:53:00.177663"
    },
    "collapsed": false
   },
   "outputs": [
    {
     "data": {
      "text/plain": [
       "2    39716\n",
       "Name: step_id, dtype: int64"
      ]
     },
     "execution_count": 13,
     "metadata": {},
     "output_type": "execute_result"
    }
   ],
   "source": [
    "cur_pos = (1, 2, 7)\n",
    "get_next_step_id(cur_pos)"
   ]
  },
  {
   "cell_type": "code",
   "execution_count": 14,
   "metadata": {
    "ExecuteTime": {
     "end_time": "2016-11-09T01:53:02.887748",
     "start_time": "2016-11-09T01:53:02.874356"
    },
    "collapsed": false
   },
   "outputs": [
    {
     "data": {
      "text/plain": [
       "38524"
      ]
     },
     "execution_count": 14,
     "metadata": {},
     "output_type": "execute_result"
    }
   ],
   "source": [
    "list(get_next_step_id(pos_df[pos_df.step_id == 38523].ix[:, [1,2,3]].values[0]).items())[0][1]"
   ]
  },
  {
   "cell_type": "code",
   "execution_count": 15,
   "metadata": {
    "ExecuteTime": {
     "end_time": "2016-11-09T02:30:11.168679",
     "start_time": "2016-11-09T01:53:06.141115"
    },
    "collapsed": false
   },
   "outputs": [
    {
     "name": "stderr",
     "output_type": "stream",
     "text": [
      "100%|██████████| 7663/7663 [37:04<00:00,  3.44it/s]\n"
     ]
    }
   ],
   "source": [
    "def f(x):\n",
    "    res = []\n",
    "    for step_id in np.unique(x.step_id):\n",
    "        first = second = third = False\n",
    "        \n",
    "        position = pos_df[pos_df.step_id == step_id].ix[:, [1,2,3]].values[0]\n",
    "        try:\n",
    "            next_step_id = list(get_next_step_id(position).items())[0][1]\n",
    "        except:\n",
    "            next_step_id = None\n",
    "        if next_step_id:\n",
    "            for cur_step_id in x.step_id:\n",
    "                if first and second and third:\n",
    "                    res.append(step_id)\n",
    "\n",
    "                if cur_step_id == step_id and not first:\n",
    "                    first = True\n",
    "                if cur_step_id == next_step_id and not second:\n",
    "                    second = True\n",
    "                if cur_step_id == step_id and not third:\n",
    "                    third = True\n",
    "    return res\n",
    "\n",
    "tqdm.pandas()\n",
    "returnable_users = data.sort_values(\"time\").groupby(\"user_id\").progress_apply(f)"
   ]
  },
  {
   "cell_type": "code",
   "execution_count": 18,
   "metadata": {
    "ExecuteTime": {
     "end_time": "2016-11-09T02:31:50.116388",
     "start_time": "2016-11-09T02:31:43.211122"
    },
    "collapsed": false
   },
   "outputs": [],
   "source": [
    "returnable_users = [np.unique(x) for x in returnable_users]"
   ]
  },
  {
   "cell_type": "code",
   "execution_count": 20,
   "metadata": {
    "ExecuteTime": {
     "end_time": "2016-11-09T02:32:13.475123",
     "start_time": "2016-11-09T02:32:13.363878"
    },
    "collapsed": false
   },
   "outputs": [],
   "source": [
    "from collections import Counter\n",
    "c = Counter()\n",
    "\n",
    "for ar in returnable_users:\n",
    "    c.update(ar)\n"
   ]
  },
  {
   "cell_type": "code",
   "execution_count": 32,
   "metadata": {
    "ExecuteTime": {
     "end_time": "2016-11-09T02:44:25.988194",
     "start_time": "2016-11-09T02:44:19.770209"
    },
    "collapsed": false
   },
   "outputs": [],
   "source": [
    "coeffs = [(key, c[key] / len(data[data.step_id == key].groupby(\"user_id\"))) for key in c]"
   ]
  },
  {
   "cell_type": "code",
   "execution_count": 33,
   "metadata": {
    "ExecuteTime": {
     "end_time": "2016-11-09T02:44:28.588314",
     "start_time": "2016-11-09T02:44:28.581204"
    },
    "collapsed": false
   },
   "outputs": [
    {
     "data": {
      "text/plain": [
       "[(47438, 0.9887459807073955),\n",
       " (44391, 0.9882943143812709),\n",
       " (38528, 0.9881586737714624),\n",
       " (39236, 0.9846857597454256),\n",
       " (48838, 0.9827089337175793),\n",
       " (48842, 0.9826589595375722),\n",
       " (47290, 0.9823204419889503),\n",
       " (42398, 0.9822161422708618),\n",
       " (38525, 0.9813411078717201),\n",
       " (38524, 0.980846581114729)]"
      ]
     },
     "execution_count": 33,
     "metadata": {},
     "output_type": "execute_result"
    },
    {
     "data": {
      "text/plain": [
       "'47438,44391,38528,39236,48838,48842,47290,42398,38525,38524'"
      ]
     },
     "execution_count": 33,
     "metadata": {},
     "output_type": "execute_result"
    }
   ],
   "source": [
    "res = sorted(coeffs, reverse=True, key=lambda x: x[1])[:10]\n",
    "res\n",
    "\",\".join([str(x[0]) for x in res])"
   ]
  },
  {
   "cell_type": "code",
   "execution_count": 31,
   "metadata": {
    "ExecuteTime": {
     "end_time": "2016-11-09T02:43:55.156264",
     "start_time": "2016-11-09T02:43:55.148625"
    },
    "collapsed": false
   },
   "outputs": [
    {
     "data": {
      "text/plain": [
       "1125"
      ]
     },
     "execution_count": 31,
     "metadata": {},
     "output_type": "execute_result"
    }
   ],
   "source": [
    "len(data[data.step_id == 44120].groupby(\"user_id\"))"
   ]
  },
  {
   "cell_type": "code",
   "execution_count": null,
   "metadata": {
    "collapsed": true
   },
   "outputs": [],
   "source": []
  }
 ],
 "metadata": {
  "kernelspec": {
   "display_name": "Python 3",
   "language": "python",
   "name": "python3"
  },
  "language_info": {
   "codemirror_mode": {
    "name": "ipython",
    "version": 3
   },
   "file_extension": ".py",
   "mimetype": "text/x-python",
   "name": "python",
   "nbconvert_exporter": "python",
   "pygments_lexer": "ipython3",
   "version": "3.5.2"
  }
 },
 "nbformat": 4,
 "nbformat_minor": 1
}
