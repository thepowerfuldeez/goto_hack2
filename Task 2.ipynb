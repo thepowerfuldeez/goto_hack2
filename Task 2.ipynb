{
 "cells": [
  {
   "cell_type": "code",
   "execution_count": 1,
   "metadata": {
    "ExecuteTime": {
     "end_time": "2016-11-10T15:08:22.856519",
     "start_time": "2016-11-10T15:08:21.458764"
    },
    "collapsed": true
   },
   "outputs": [],
   "source": [
    "import pandas as pd\n",
    "structure = pd.read_csv(\"course-217-structure.csv\")\n",
    "data = pd.read_csv(\"course-217-events.csv\")"
   ]
  },
  {
   "cell_type": "code",
   "execution_count": 2,
   "metadata": {
    "ExecuteTime": {
     "end_time": "2016-11-10T15:08:23.903748",
     "start_time": "2016-11-10T15:08:23.448951"
    },
    "collapsed": true
   },
   "outputs": [],
   "source": [
    "import numpy as np\n",
    "import numba"
   ]
  },
  {
   "cell_type": "code",
   "execution_count": 3,
   "metadata": {
    "ExecuteTime": {
     "end_time": "2016-11-10T15:08:24.406303",
     "start_time": "2016-11-10T15:08:24.383235"
    },
    "collapsed": false
   },
   "outputs": [
    {
     "data": {
      "text/html": [
       "<div>\n",
       "<table border=\"1\" class=\"dataframe\">\n",
       "  <thead>\n",
       "    <tr style=\"text-align: right;\">\n",
       "      <th></th>\n",
       "      <th>course_id</th>\n",
       "      <th>module_id</th>\n",
       "      <th>module_position</th>\n",
       "      <th>lesson_id</th>\n",
       "      <th>lesson_position</th>\n",
       "      <th>step_id</th>\n",
       "      <th>step_position</th>\n",
       "      <th>step_type</th>\n",
       "      <th>step_cost</th>\n",
       "    </tr>\n",
       "  </thead>\n",
       "  <tbody>\n",
       "    <tr>\n",
       "      <th>0</th>\n",
       "      <td>217</td>\n",
       "      <td>614</td>\n",
       "      <td>2</td>\n",
       "      <td>13228</td>\n",
       "      <td>2</td>\n",
       "      <td>38842</td>\n",
       "      <td>1</td>\n",
       "      <td>text</td>\n",
       "      <td>0</td>\n",
       "    </tr>\n",
       "    <tr>\n",
       "      <th>1</th>\n",
       "      <td>217</td>\n",
       "      <td>614</td>\n",
       "      <td>2</td>\n",
       "      <td>13228</td>\n",
       "      <td>2</td>\n",
       "      <td>39715</td>\n",
       "      <td>6</td>\n",
       "      <td>code</td>\n",
       "      <td>1</td>\n",
       "    </tr>\n",
       "    <tr>\n",
       "      <th>2</th>\n",
       "      <td>217</td>\n",
       "      <td>614</td>\n",
       "      <td>2</td>\n",
       "      <td>13228</td>\n",
       "      <td>2</td>\n",
       "      <td>39716</td>\n",
       "      <td>7</td>\n",
       "      <td>code</td>\n",
       "      <td>1</td>\n",
       "    </tr>\n",
       "    <tr>\n",
       "      <th>3</th>\n",
       "      <td>217</td>\n",
       "      <td>614</td>\n",
       "      <td>2</td>\n",
       "      <td>13228</td>\n",
       "      <td>2</td>\n",
       "      <td>39717</td>\n",
       "      <td>8</td>\n",
       "      <td>code</td>\n",
       "      <td>1</td>\n",
       "    </tr>\n",
       "    <tr>\n",
       "      <th>4</th>\n",
       "      <td>217</td>\n",
       "      <td>614</td>\n",
       "      <td>2</td>\n",
       "      <td>13228</td>\n",
       "      <td>2</td>\n",
       "      <td>39721</td>\n",
       "      <td>9</td>\n",
       "      <td>free-answer</td>\n",
       "      <td>0</td>\n",
       "    </tr>\n",
       "  </tbody>\n",
       "</table>\n",
       "</div>"
      ],
      "text/plain": [
       "   course_id  module_id  module_position  lesson_id  lesson_position  step_id  \\\n",
       "0        217        614                2      13228                2    38842   \n",
       "1        217        614                2      13228                2    39715   \n",
       "2        217        614                2      13228                2    39716   \n",
       "3        217        614                2      13228                2    39717   \n",
       "4        217        614                2      13228                2    39721   \n",
       "\n",
       "   step_position    step_type  step_cost  \n",
       "0              1         text          0  \n",
       "1              6         code          1  \n",
       "2              7         code          1  \n",
       "3              8         code          1  \n",
       "4              9  free-answer          0  "
      ]
     },
     "execution_count": 3,
     "metadata": {},
     "output_type": "execute_result"
    }
   ],
   "source": [
    "structure.head()"
   ]
  },
  {
   "cell_type": "code",
   "execution_count": 4,
   "metadata": {
    "ExecuteTime": {
     "end_time": "2016-11-10T15:08:26.374759",
     "start_time": "2016-11-10T15:08:26.368285"
    },
    "collapsed": false
   },
   "outputs": [],
   "source": [
    "pos_df = structure.ix[:, [-4, 2, 4, 6]].sort_values(\"module_position\")"
   ]
  },
  {
   "cell_type": "code",
   "execution_count": 5,
   "metadata": {
    "ExecuteTime": {
     "end_time": "2016-11-10T15:08:29.526030",
     "start_time": "2016-11-10T15:08:29.484853"
    },
    "collapsed": false
   },
   "outputs": [],
   "source": [
    "from tqdm import tqdm, tqdm_notebook"
   ]
  },
  {
   "cell_type": "code",
   "execution_count": 6,
   "metadata": {
    "ExecuteTime": {
     "end_time": "2016-11-10T15:08:31.881765",
     "start_time": "2016-11-10T15:08:31.870971"
    },
    "collapsed": false
   },
   "outputs": [],
   "source": [
    "pos_array = []\n",
    "\n",
    "for i in range(1, 11):\n",
    "    for j in range(1, 10):\n",
    "        for k in range(1, 14):\n",
    "            pos_array.append([i, j, k])\n",
    "            \n",
    "pos_dict = {}\n",
    "for i, pos in enumerate(pos_array):\n",
    "    pos_dict[i] = pos"
   ]
  },
  {
   "cell_type": "code",
   "execution_count": 9,
   "metadata": {
    "ExecuteTime": {
     "end_time": "2016-11-10T15:09:55.767450",
     "start_time": "2016-11-10T15:09:55.759366"
    },
    "collapsed": true
   },
   "outputs": [],
   "source": [
    "def get_next_step_id(step_id):\n",
    "    cur_pos = list(pos_df[pos_df.step_id == step_id].ix[:, [1,2,3]].values[0])\n",
    "#     print(cur_pos)\n",
    "    \n",
    "    for key in pos_dict:\n",
    "        if pos_dict[key] == cur_pos:\n",
    "            i = key\n",
    "            break\n",
    "    \n",
    "    for j in range(i + 1, 13*9*10+1):\n",
    "        pos = pos_dict[j]\n",
    "        if not pos_df.query(\"(module_position == {0}) & (lesson_position == {1}) & (step_position == {2})\".format(*pos)).empty:\n",
    "            return pos_df.query(\"(module_position == {0}) & (lesson_position == {1}) & (step_position == {2})\".format(*pos)).step_id"
   ]
  },
  {
   "cell_type": "code",
   "execution_count": null,
   "metadata": {
    "ExecuteTime": {
     "start_time": "2016-11-10T12:12:15.785Z"
    },
    "collapsed": false,
    "scrolled": true
   },
   "outputs": [
    {
     "name": "stderr",
     "output_type": "stream",
     "text": [
      "\n",
      "\n",
      "\n",
      "  0%|          | 0/7663 [00:00<?, ?it/s]\u001b[A\u001b[A\u001b[A\n",
      "\n",
      "\n",
      "  0%|          | 1/7663 [00:00<17:58,  7.10it/s]\u001b[A\u001b[A\u001b[A\n",
      "\n",
      "\n",
      "  0%|          | 2/7663 [00:02<1:46:49,  1.20it/s]\u001b[A\u001b[A\u001b[A\n",
      "\n",
      "\n",
      "  0%|          | 3/7663 [00:04<2:33:55,  1.21s/it]\u001b[A\u001b[A\u001b[A\n",
      "\n",
      "\n",
      "  0%|          | 4/7663 [00:06<2:46:27,  1.30s/it]\u001b[A\u001b[A\u001b[A\n",
      "\n",
      "\n",
      "  0%|          | 5/7663 [00:07<2:49:43,  1.33s/it]\u001b[A\u001b[A\u001b[A\n",
      "\n",
      "\n",
      "  0%|          | 6/7663 [00:07<2:07:21,  1.00it/s]\u001b[A\u001b[A\u001b[A\n",
      "\n",
      "\n",
      "  0%|          | 7/7663 [00:08<2:12:25,  1.04s/it]\u001b[A\u001b[A\u001b[A\n",
      "\n",
      "\n",
      "  0%|          | 8/7663 [00:11<3:02:26,  1.43s/it]\u001b[A\u001b[A\u001b[A\n",
      "\n",
      "\n",
      "  0%|          | 9/7663 [00:13<3:21:24,  1.58s/it]\u001b[A\u001b[A\u001b[A\n",
      "\n",
      "\n",
      "  0%|          | 10/7663 [00:14<3:09:40,  1.49s/it]\u001b[A\u001b[A\u001b[A\n",
      "\n",
      "\n",
      "  0%|          | 11/7663 [00:15<2:33:43,  1.21s/it]\u001b[A\u001b[A\u001b[A\n",
      "\n",
      "\n",
      "  0%|          | 12/7663 [00:16<2:47:17,  1.31s/it]\u001b[A\u001b[A\u001b[A\n",
      "\n",
      "\n",
      "  0%|          | 13/7663 [00:19<3:29:51,  1.65s/it]\u001b[A\u001b[A\u001b[A\n",
      "\n",
      "\n",
      "  0%|          | 14/7663 [00:19<2:53:39,  1.36s/it]\u001b[A\u001b[A\u001b[A\n",
      "\n",
      "\n",
      "  0%|          | 15/7663 [00:20<2:22:10,  1.12s/it]\u001b[A\u001b[A\u001b[A\n",
      "\n",
      "\n",
      "  0%|          | 16/7663 [00:21<2:39:52,  1.25s/it]\u001b[A\u001b[A\u001b[A\n",
      "\n",
      "\n",
      "  0%|          | 17/7663 [00:21<1:56:51,  1.09it/s]\u001b[A\u001b[A\u001b[A\n",
      "\n",
      "\n",
      "  0%|          | 18/7663 [00:22<1:57:30,  1.08it/s]\u001b[A\u001b[A\u001b[A\n",
      "\n",
      "\n",
      "  0%|          | 19/7663 [00:24<2:15:42,  1.07s/it]\u001b[A\u001b[A\u001b[A\n",
      "\n",
      "\n",
      "  0%|          | 20/7663 [00:24<1:55:48,  1.10it/s]\u001b[A\u001b[A\u001b[A\n",
      "\n",
      "\n",
      "  0%|          | 21/7663 [00:25<1:40:08,  1.27it/s]\u001b[A\u001b[A\u001b[A\n",
      "\n",
      "\n",
      "  0%|          | 22/7663 [00:25<1:27:43,  1.45it/s]\u001b[A\u001b[A\u001b[A\n",
      "\n",
      "\n",
      "  0%|          | 24/7663 [00:26<1:13:01,  1.74it/s]\u001b[A\u001b[A\u001b[A\n",
      "\n",
      "\n",
      "  0%|          | 25/7663 [00:27<1:32:31,  1.38it/s]\u001b[A\u001b[A\u001b[A\n",
      "\n",
      "\n",
      "  0%|          | 26/7663 [00:28<1:42:13,  1.25it/s]\u001b[A\u001b[A\u001b[A\n",
      "\n",
      "\n",
      "  0%|          | 27/7663 [00:29<1:47:19,  1.19it/s]\u001b[A\u001b[A\u001b[A\n",
      "\n",
      "\n",
      "  0%|          | 28/7663 [00:30<2:06:10,  1.01it/s]\u001b[A\u001b[A\u001b[A\n",
      "\n",
      "\n",
      "  0%|          | 29/7663 [00:31<1:50:00,  1.16it/s]\u001b[A\u001b[A\u001b[A\n",
      "\n",
      "\n",
      "  0%|          | 30/7663 [00:32<1:54:39,  1.11it/s]\u001b[A\u001b[A\u001b[A\n",
      "\n",
      "\n",
      "  0%|          | 31/7663 [00:32<1:36:26,  1.32it/s]\u001b[A\u001b[A\u001b[A\n",
      "\n",
      "\n",
      "  0%|          | 32/7663 [00:33<1:32:34,  1.37it/s]\u001b[A\u001b[A\u001b[A\n",
      "\n",
      "\n",
      "  0%|          | 33/7663 [00:35<2:18:55,  1.09s/it]\u001b[A\u001b[A\u001b[A\n",
      "\n",
      "\n",
      "  0%|          | 34/7663 [00:36<2:35:48,  1.23s/it]\u001b[A\u001b[A\u001b[A\n",
      "\n",
      "\n",
      "  0%|          | 35/7663 [00:37<2:10:40,  1.03s/it]\u001b[A\u001b[A\u001b[A\n",
      "\n",
      "\n",
      "  0%|          | 36/7663 [00:39<2:36:42,  1.23s/it]\u001b[A\u001b[A\u001b[A\n",
      "\n",
      "\n",
      "  0%|          | 37/7663 [00:42<3:46:58,  1.79s/it]\u001b[A\u001b[A\u001b[A\n",
      "\n",
      "\n",
      "  0%|          | 38/7663 [00:43<3:10:26,  1.50s/it]\u001b[A\u001b[A\u001b[A\n",
      "\n",
      "\n",
      "  1%|          | 39/7663 [00:44<3:01:27,  1.43s/it]\u001b[A\u001b[A\u001b[A\n",
      "\n",
      "\n",
      "  1%|          | 40/7663 [00:45<2:37:20,  1.24s/it]\u001b[A\u001b[A\u001b[A\n",
      "\n",
      "\n",
      "  1%|          | 41/7663 [00:47<3:06:03,  1.46s/it]\u001b[A\u001b[A\u001b[A\n",
      "\n",
      "\n",
      "  1%|          | 42/7663 [00:47<2:24:22,  1.14s/it]\u001b[A\u001b[A\u001b[A\n",
      "\n",
      "\n",
      "  1%|          | 43/7663 [00:47<1:56:53,  1.09it/s]\u001b[A\u001b[A\u001b[A\n",
      "\n",
      "\n",
      "  1%|          | 45/7663 [00:48<1:31:22,  1.39it/s]\u001b[A\u001b[A\u001b[A\n",
      "\n",
      "\n",
      "  1%|          | 46/7663 [00:50<2:13:11,  1.05s/it]\u001b[A\u001b[A\u001b[A\n",
      "\n",
      "\n",
      "  1%|          | 47/7663 [00:50<1:52:08,  1.13it/s]\u001b[A\u001b[A\u001b[A\n",
      "\n",
      "\n",
      "  1%|          | 48/7663 [00:51<1:47:25,  1.18it/s]\u001b[A\u001b[A\u001b[A\n",
      "\n",
      "\n",
      "  1%|          | 49/7663 [00:52<1:48:54,  1.17it/s]\u001b[A\u001b[A\u001b[A\n",
      "\n",
      "\n",
      "  1%|          | 51/7663 [00:52<1:26:42,  1.46it/s]\u001b[A\u001b[A\u001b[A\n",
      "\n",
      "\n",
      "  1%|          | 52/7663 [00:53<1:17:20,  1.64it/s]\u001b[A\u001b[A\u001b[A\n",
      "\n",
      "\n",
      "  1%|          | 53/7663 [00:55<2:13:41,  1.05s/it]\u001b[A\u001b[A\u001b[A\n",
      "\n",
      "\n",
      "  1%|          | 54/7663 [00:55<1:53:37,  1.12it/s]\u001b[A\u001b[A\u001b[A\n",
      "\n",
      "\n",
      "  1%|          | 55/7663 [00:56<1:38:11,  1.29it/s]\u001b[A\u001b[A\u001b[A\n",
      "\n",
      "\n",
      "  1%|          | 56/7663 [00:56<1:16:14,  1.66it/s]\u001b[A\u001b[A\u001b[A\n",
      "\n",
      "\n",
      "  1%|          | 57/7663 [00:57<1:31:07,  1.39it/s]\u001b[A\u001b[A\u001b[A\n",
      "\n",
      "\n",
      "  1%|          | 58/7663 [00:58<1:25:33,  1.48it/s]\u001b[A\u001b[A\u001b[A\n",
      "\n",
      "\n",
      "  1%|          | 59/7663 [00:58<1:20:14,  1.58it/s]\u001b[A\u001b[A\u001b[A\n",
      "\n",
      "\n",
      "  1%|          | 60/7663 [01:00<1:59:33,  1.06it/s]\u001b[A\u001b[A\u001b[A\n",
      "\n",
      "\n",
      "  1%|          | 61/7663 [01:01<2:00:50,  1.05it/s]\u001b[A\u001b[A\u001b[A\n",
      "\n",
      "\n",
      "  1%|          | 63/7663 [01:01<1:35:12,  1.33it/s]\u001b[A\u001b[A\u001b[A\n",
      "\n",
      "\n",
      "  1%|          | 65/7663 [01:04<1:46:04,  1.19it/s]\u001b[A\u001b[A\u001b[A\n",
      "\n",
      "\n",
      "  1%|          | 67/7663 [01:05<1:37:55,  1.29it/s]\u001b[A\u001b[A\u001b[A\n",
      "\n",
      "\n",
      "  1%|          | 68/7663 [01:06<2:10:10,  1.03s/it]"
     ]
    }
   ],
   "source": [
    "def f(x):\n",
    "    res = []\n",
    "    try:\n",
    "        for step_id in np.unique(x.step_id):\n",
    "            first = second = third = False\n",
    "\n",
    "            next_step_id = get_next_step_id(step_id).values[0]\n",
    "            if next_step_id:\n",
    "                for cur_step_id in x.step_id:\n",
    "                    if first and second and third:\n",
    "                        res.append(step_id)\n",
    "\n",
    "                    if cur_step_id == step_id and not first:\n",
    "                        first = True\n",
    "                    if cur_step_id == next_step_id and not second:\n",
    "                        second = True\n",
    "                    if cur_step_id == step_id and not third:\n",
    "                        third = True\n",
    "    except:\n",
    "        pass\n",
    "    return res\n",
    "\n",
    "tqdm.pandas()\n",
    "returnable_users = data.sort_values(\"time\").groupby(\"user_id\").progress_apply(f)"
   ]
  },
  {
   "cell_type": "code",
   "execution_count": 18,
   "metadata": {
    "ExecuteTime": {
     "end_time": "2016-11-09T02:31:50.116388",
     "start_time": "2016-11-09T02:31:43.211122"
    },
    "collapsed": false
   },
   "outputs": [],
   "source": [
    "returnable_users = [np.unique(x) for x in returnable_users]"
   ]
  },
  {
   "cell_type": "code",
   "execution_count": 20,
   "metadata": {
    "ExecuteTime": {
     "end_time": "2016-11-09T02:32:13.475123",
     "start_time": "2016-11-09T02:32:13.363878"
    },
    "collapsed": false
   },
   "outputs": [],
   "source": [
    "from collections import Counter\n",
    "c = Counter()\n",
    "\n",
    "for ar in returnable_users:\n",
    "    c.update(ar)\n"
   ]
  },
  {
   "cell_type": "code",
   "execution_count": 32,
   "metadata": {
    "ExecuteTime": {
     "end_time": "2016-11-09T02:44:25.988194",
     "start_time": "2016-11-09T02:44:19.770209"
    },
    "collapsed": false
   },
   "outputs": [],
   "source": [
    "coeffs = [(key, c[key] / len(data[data.step_id == key].groupby(\"user_id\"))) for key in c]"
   ]
  },
  {
   "cell_type": "code",
   "execution_count": 33,
   "metadata": {
    "ExecuteTime": {
     "end_time": "2016-11-09T02:44:28.588314",
     "start_time": "2016-11-09T02:44:28.581204"
    },
    "collapsed": false
   },
   "outputs": [
    {
     "data": {
      "text/plain": [
       "[(47438, 0.9887459807073955),\n",
       " (44391, 0.9882943143812709),\n",
       " (38528, 0.9881586737714624),\n",
       " (39236, 0.9846857597454256),\n",
       " (48838, 0.9827089337175793),\n",
       " (48842, 0.9826589595375722),\n",
       " (47290, 0.9823204419889503),\n",
       " (42398, 0.9822161422708618),\n",
       " (38525, 0.9813411078717201),\n",
       " (38524, 0.980846581114729)]"
      ]
     },
     "execution_count": 33,
     "metadata": {},
     "output_type": "execute_result"
    },
    {
     "data": {
      "text/plain": [
       "'47438,44391,38528,39236,48838,48842,47290,42398,38525,38524'"
      ]
     },
     "execution_count": 33,
     "metadata": {},
     "output_type": "execute_result"
    }
   ],
   "source": [
    "res = sorted(coeffs, reverse=True, key=lambda x: x[1])[:10]\n",
    "res\n",
    "\",\".join([str(x[0]) for x in res])"
   ]
  },
  {
   "cell_type": "code",
   "execution_count": 31,
   "metadata": {
    "ExecuteTime": {
     "end_time": "2016-11-09T02:43:55.156264",
     "start_time": "2016-11-09T02:43:55.148625"
    },
    "collapsed": false
   },
   "outputs": [
    {
     "data": {
      "text/plain": [
       "1125"
      ]
     },
     "execution_count": 31,
     "metadata": {},
     "output_type": "execute_result"
    }
   ],
   "source": [
    "len(data[data.step_id == 44120].groupby(\"user_id\"))"
   ]
  },
  {
   "cell_type": "code",
   "execution_count": null,
   "metadata": {
    "collapsed": true
   },
   "outputs": [],
   "source": []
  }
 ],
 "metadata": {
  "kernelspec": {
   "display_name": "Python 3",
   "language": "python",
   "name": "python3"
  },
  "language_info": {
   "codemirror_mode": {
    "name": "ipython",
    "version": 3
   },
   "file_extension": ".py",
   "mimetype": "text/x-python",
   "name": "python",
   "nbconvert_exporter": "python",
   "pygments_lexer": "ipython3",
   "version": "3.5.2"
  }
 },
 "nbformat": 4,
 "nbformat_minor": 1
}
