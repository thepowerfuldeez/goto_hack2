{
 "cells": [
  {
   "cell_type": "code",
   "execution_count": 2,
   "metadata": {
    "ExecuteTime": {
     "end_time": "2016-11-11T13:26:45.403349",
     "start_time": "2016-11-11T13:26:45.400107"
    },
    "collapsed": true
   },
   "outputs": [],
   "source": [
    "import pandas as pd"
   ]
  },
  {
   "cell_type": "code",
   "execution_count": 3,
   "metadata": {
    "ExecuteTime": {
     "end_time": "2016-11-11T13:26:47.698965",
     "start_time": "2016-11-11T13:26:45.956422"
    },
    "collapsed": true
   },
   "outputs": [],
   "source": [
    "structure = pd.read_csv(\"kaggle/structure.csv\")\n",
    "targets = pd.read_csv(\"kaggle/targets.csv\")\n",
    "df = pd.read_csv(\"kaggle/user_activity.csv\")"
   ]
  },
  {
   "cell_type": "code",
   "execution_count": 4,
   "metadata": {
    "ExecuteTime": {
     "end_time": "2016-11-11T13:26:48.112787",
     "start_time": "2016-11-11T13:26:48.105710"
    },
    "collapsed": false
   },
   "outputs": [],
   "source": [
    "costed_steps = structure[structure.step_cost > 0]"
   ]
  },
  {
   "cell_type": "code",
   "execution_count": 5,
   "metadata": {
    "ExecuteTime": {
     "end_time": "2016-11-11T13:26:48.867369",
     "start_time": "2016-11-11T13:26:48.860560"
    },
    "collapsed": true
   },
   "outputs": [],
   "source": [
    "def f(x):\n",
    "    passed = x[x.action == \"passed\"]\n",
    "#     print(passed)\n",
    "    two_weeks = 10*3600*24\n",
    "    border = passed.time.max() - two_weeks\n",
    "    \n",
    "    return len([1 for t in passed.time if t >= border])"
   ]
  },
  {
   "cell_type": "code",
   "execution_count": 7,
   "metadata": {
    "ExecuteTime": {
     "end_time": "2016-11-11T13:28:01.120332",
     "start_time": "2016-11-11T13:27:48.557407"
    },
    "collapsed": false
   },
   "outputs": [
    {
     "name": "stderr",
     "output_type": "stream",
     "text": [
      "100%|██████████| 9426/9426 [00:12<00:00, 770.57it/s]\n"
     ]
    }
   ],
   "source": [
    "from tqdm import tqdm\n",
    "tqdm.pandas()\n",
    "\n",
    "X = df[df.step_id.isin(costed_steps.step_id)].groupby(\"user_id\").progress_apply(f)"
   ]
  },
  {
   "cell_type": "code",
   "execution_count": 8,
   "metadata": {
    "ExecuteTime": {
     "end_time": "2016-11-11T13:28:18.216267",
     "start_time": "2016-11-11T13:28:18.206772"
    },
    "collapsed": false
   },
   "outputs": [],
   "source": [
    "Y = targets[targets.user_id.isin(X.index)]"
   ]
  },
  {
   "cell_type": "code",
   "execution_count": 13,
   "metadata": {
    "ExecuteTime": {
     "end_time": "2016-11-11T13:29:01.223970",
     "start_time": "2016-11-11T13:29:01.220271"
    },
    "collapsed": false
   },
   "outputs": [],
   "source": [
    "X = X.values\n",
    "Y = Y.passed.values"
   ]
  },
  {
   "cell_type": "code",
   "execution_count": 18,
   "metadata": {
    "ExecuteTime": {
     "end_time": "2016-11-11T13:30:03.620635",
     "start_time": "2016-11-11T13:30:03.616935"
    },
    "collapsed": true
   },
   "outputs": [],
   "source": [
    "from sklearn.linear_model import SGDClassifier\n",
    "classifier = SGDClassifier()"
   ]
  },
  {
   "cell_type": "code",
   "execution_count": 20,
   "metadata": {
    "ExecuteTime": {
     "end_time": "2016-11-11T13:30:41.272167",
     "start_time": "2016-11-11T13:30:41.255562"
    },
    "collapsed": false
   },
   "outputs": [
    {
     "name": "stderr",
     "output_type": "stream",
     "text": [
      "/Library/anaconda/lib/python3.5/site-packages/sklearn/utils/validation.py:526: DataConversionWarning: A column-vector y was passed when a 1d array was expected. Please change the shape of y to (n_samples, ), for example using ravel().\n",
      "  y = column_or_1d(y, warn=True)\n"
     ]
    },
    {
     "data": {
      "text/plain": [
       "SGDClassifier(alpha=0.0001, average=False, class_weight=None, epsilon=0.1,\n",
       "       eta0=0.0, fit_intercept=True, l1_ratio=0.15,\n",
       "       learning_rate='optimal', loss='hinge', n_iter=5, n_jobs=1,\n",
       "       penalty='l2', power_t=0.5, random_state=None, shuffle=True,\n",
       "       verbose=0, warm_start=False)"
      ]
     },
     "execution_count": 20,
     "metadata": {},
     "output_type": "execute_result"
    }
   ],
   "source": [
    "classifier.fit(X.reshape(len(X), 1), Y.reshape(len(Y), 1))"
   ]
  },
  {
   "cell_type": "code",
   "execution_count": 22,
   "metadata": {
    "ExecuteTime": {
     "end_time": "2016-11-11T13:31:55.351159",
     "start_time": "2016-11-11T13:31:55.348341"
    },
    "collapsed": true
   },
   "outputs": [],
   "source": [
    "from sklearn.metrics import accuracy_score"
   ]
  },
  {
   "cell_type": "code",
   "execution_count": 25,
   "metadata": {
    "ExecuteTime": {
     "end_time": "2016-11-11T13:34:25.244347",
     "start_time": "2016-11-11T13:34:25.240104"
    },
    "collapsed": true
   },
   "outputs": [],
   "source": [
    "def prepare(df):\n",
    "    X = df[df.step_id.isin(costed_steps.step_id)].groupby(\"user_id\").progress_apply(f)\n",
    "    X = X.values.reshape(len(X), 1)\n",
    "    return X"
   ]
  },
  {
   "cell_type": "code",
   "execution_count": 28,
   "metadata": {
    "ExecuteTime": {
     "end_time": "2016-11-11T13:35:16.380569",
     "start_time": "2016-11-11T13:35:13.474846"
    },
    "collapsed": false
   },
   "outputs": [
    {
     "name": "stderr",
     "output_type": "stream",
     "text": [
      "100%|██████████| 2413/2413 [00:02<00:00, 992.29it/s] \n"
     ]
    }
   ],
   "source": [
    "X_test = prepare(pd.read_csv(\"kaggle/user_activity_test.csv\"))\n",
    "predicted = classifier.predict(X_test)"
   ]
  },
  {
   "cell_type": "code",
   "execution_count": null,
   "metadata": {
    "collapsed": true
   },
   "outputs": [],
   "source": []
  }
 ],
 "metadata": {
  "kernelspec": {
   "display_name": "Python 3",
   "language": "python",
   "name": "python3"
  },
  "language_info": {
   "codemirror_mode": {
    "name": "ipython",
    "version": 3
   },
   "file_extension": ".py",
   "mimetype": "text/x-python",
   "name": "python",
   "nbconvert_exporter": "python",
   "pygments_lexer": "ipython3",
   "version": "3.5.2"
  }
 },
 "nbformat": 4,
 "nbformat_minor": 1
}
