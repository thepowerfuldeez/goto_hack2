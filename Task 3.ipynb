{
 "cells": [
  {
   "cell_type": "code",
   "execution_count": 46,
   "metadata": {
    "ExecuteTime": {
     "end_time": "2016-11-11T16:28:12.145719",
     "start_time": "2016-11-11T16:28:12.141690"
    },
    "collapsed": true
   },
   "outputs": [],
   "source": [
    "import pandas as pd\n",
    "import numpy as np"
   ]
  },
  {
   "cell_type": "code",
   "execution_count": 2,
   "metadata": {
    "ExecuteTime": {
     "end_time": "2016-11-11T16:19:17.054945",
     "start_time": "2016-11-11T16:19:15.447987"
    },
    "collapsed": true
   },
   "outputs": [],
   "source": [
    "structure = pd.read_csv(\"kaggle/structure.csv\")\n",
    "targets = pd.read_csv(\"kaggle/targets.csv\")\n",
    "df = pd.read_csv(\"kaggle/user_activity.csv\")"
   ]
  },
  {
   "cell_type": "code",
   "execution_count": 3,
   "metadata": {
    "ExecuteTime": {
     "end_time": "2016-11-11T16:19:17.668393",
     "start_time": "2016-11-11T16:19:17.664669"
    },
    "collapsed": false
   },
   "outputs": [],
   "source": [
    "costed_steps = structure[structure.step_cost > 0]"
   ]
  },
  {
   "cell_type": "code",
   "execution_count": 4,
   "metadata": {
    "ExecuteTime": {
     "end_time": "2016-11-11T16:19:18.693095",
     "start_time": "2016-11-11T16:19:18.687284"
    },
    "collapsed": true
   },
   "outputs": [],
   "source": [
    "def f(x):\n",
    "    passed = x[x.action == \"passed\"]\n",
    "#     print(passed)\n",
    "    two_weeks = 10*3600*24\n",
    "    border = passed.time.max() - two_weeks\n",
    "    \n",
    "    return len([1 for t in passed.time if t >= border])"
   ]
  },
  {
   "cell_type": "code",
   "execution_count": 35,
   "metadata": {
    "ExecuteTime": {
     "end_time": "2016-11-11T16:25:37.716895",
     "start_time": "2016-11-11T16:25:28.032257"
    },
    "collapsed": false
   },
   "outputs": [
    {
     "name": "stderr",
     "output_type": "stream",
     "text": [
      "100%|██████████| 9426/9426 [00:09<00:00, 1006.04it/s]\n"
     ]
    }
   ],
   "source": [
    "from tqdm import tqdm\n",
    "tqdm.pandas()\n",
    "\n",
    "X = df[df.step_id.isin(costed_steps.step_id)].groupby(\"user_id\").progress_apply(f)\n",
    "Y = targets[targets.user_id.isin(X.index)]"
   ]
  },
  {
   "cell_type": "code",
   "execution_count": 28,
   "metadata": {
    "ExecuteTime": {
     "end_time": "2016-11-11T16:24:20.637505",
     "start_time": "2016-11-11T16:24:20.632575"
    },
    "collapsed": false
   },
   "outputs": [
    {
     "data": {
      "text/plain": [
       "(array([0, 9, 9, ..., 2, 0, 3]), array([0, 0, 0, ..., 0, 0, 0]))"
      ]
     },
     "execution_count": 28,
     "metadata": {},
     "output_type": "execute_result"
    }
   ],
   "source": [
    "X.values, Y.passed.values"
   ]
  },
  {
   "cell_type": "code",
   "execution_count": 65,
   "metadata": {
    "ExecuteTime": {
     "end_time": "2016-11-11T16:32:48.525717",
     "start_time": "2016-11-11T16:32:48.521700"
    },
    "collapsed": false
   },
   "outputs": [],
   "source": [
    "X_train = X.values.reshape(-1, 1)\n",
    "Y_train = Y.passed.values.reshape(-1, 1)"
   ]
  },
  {
   "cell_type": "code",
   "execution_count": 66,
   "metadata": {
    "ExecuteTime": {
     "end_time": "2016-11-11T16:32:49.704540",
     "start_time": "2016-11-11T16:32:49.701668"
    },
    "collapsed": true
   },
   "outputs": [],
   "source": [
    "from sklearn.linear_model import SGDClassifier\n",
    "classifier = SGDClassifier()"
   ]
  },
  {
   "cell_type": "code",
   "execution_count": 67,
   "metadata": {
    "ExecuteTime": {
     "end_time": "2016-11-11T16:32:49.903088",
     "start_time": "2016-11-11T16:32:49.899423"
    },
    "collapsed": false
   },
   "outputs": [
    {
     "data": {
      "text/plain": [
       "((9425, 1), (9425, 1))"
      ]
     },
     "execution_count": 67,
     "metadata": {},
     "output_type": "execute_result"
    }
   ],
   "source": [
    "X_train.shape, Y_train.shape"
   ]
  },
  {
   "cell_type": "code",
   "execution_count": 69,
   "metadata": {
    "ExecuteTime": {
     "end_time": "2016-11-11T16:37:14.550980",
     "start_time": "2016-11-11T16:37:14.533335"
    },
    "collapsed": false
   },
   "outputs": [
    {
     "name": "stderr",
     "output_type": "stream",
     "text": [
      "/Library/anaconda/lib/python3.5/site-packages/sklearn/utils/validation.py:526: DataConversionWarning: A column-vector y was passed when a 1d array was expected. Please change the shape of y to (n_samples, ), for example using ravel().\n",
      "  y = column_or_1d(y, warn=True)\n"
     ]
    },
    {
     "data": {
      "text/plain": [
       "SGDClassifier(alpha=0.0001, average=False, class_weight=None, epsilon=0.1,\n",
       "       eta0=0.0, fit_intercept=True, l1_ratio=0.15,\n",
       "       learning_rate='optimal', loss='hinge', n_iter=5, n_jobs=1,\n",
       "       penalty='l2', power_t=0.5, random_state=None, shuffle=True,\n",
       "       verbose=0, warm_start=False)"
      ]
     },
     "execution_count": 69,
     "metadata": {},
     "output_type": "execute_result"
    }
   ],
   "source": [
    "classifier.fit(X_train, Y_train)"
   ]
  },
  {
   "cell_type": "code",
   "execution_count": 110,
   "metadata": {
    "ExecuteTime": {
     "end_time": "2016-11-11T17:02:29.659210",
     "start_time": "2016-11-11T17:02:29.654756"
    },
    "collapsed": true
   },
   "outputs": [],
   "source": [
    "def prepare(df):\n",
    "    X = df.groupby(\"user_id\").progress_apply(f)\n",
    "    return X.index, X.values.reshape(len(X), 1)"
   ]
  },
  {
   "cell_type": "code",
   "execution_count": 111,
   "metadata": {
    "ExecuteTime": {
     "end_time": "2016-11-11T17:02:36.584724",
     "start_time": "2016-11-11T17:02:31.980082"
    },
    "collapsed": false
   },
   "outputs": [
    {
     "name": "stderr",
     "output_type": "stream",
     "text": [
      "100%|██████████| 4256/4256 [00:04<00:00, 1022.17it/s]\n"
     ]
    }
   ],
   "source": [
    "user_ids, X_test = prepare(pd.read_csv(\"kaggle/user_activity_test.csv\"))\n",
    "predicted = classifier.predict(X_test)"
   ]
  },
  {
   "cell_type": "code",
   "execution_count": 114,
   "metadata": {
    "ExecuteTime": {
     "end_time": "2016-11-11T17:02:49.765418",
     "start_time": "2016-11-11T17:02:49.761359"
    },
    "collapsed": false
   },
   "outputs": [],
   "source": [
    "res = pd.DataFrame({\"user_id\": user_ids, \"passed\": predicted}).set_index(\"user_id\")"
   ]
  },
  {
   "cell_type": "code",
   "execution_count": 116,
   "metadata": {
    "ExecuteTime": {
     "end_time": "2016-11-11T17:02:53.258873",
     "start_time": "2016-11-11T17:02:53.244394"
    },
    "collapsed": true
   },
   "outputs": [],
   "source": [
    "res.to_csv(\"result.csv\")"
   ]
  },
  {
   "cell_type": "code",
   "execution_count": null,
   "metadata": {
    "collapsed": true
   },
   "outputs": [],
   "source": []
  }
 ],
 "metadata": {
  "kernelspec": {
   "display_name": "Python 3",
   "language": "python",
   "name": "python3"
  },
  "language_info": {
   "codemirror_mode": {
    "name": "ipython",
    "version": 3
   },
   "file_extension": ".py",
   "mimetype": "text/x-python",
   "name": "python",
   "nbconvert_exporter": "python",
   "pygments_lexer": "ipython3",
   "version": "3.5.2"
  }
 },
 "nbformat": 4,
 "nbformat_minor": 1
}
